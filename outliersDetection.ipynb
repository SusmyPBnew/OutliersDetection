{
 "cells": [
  {
   "cell_type": "markdown",
   "id": "38ca70ff-d865-4d9f-b22e-492e6bdb7e3f",
   "metadata": {},
   "source": [
    "# ML - Task \n",
    "## Measures of Descriptive statistics-Central Tendency, spread\n",
    "<p>You are given house_price.csv which contains property prices in the city of Bangalore. You need to examine price per square feet do the following:</p>\n",
    "<p>Detect the outliers and remove it using:</p>"
   ]
  },
  {
   "cell_type": "markdown",
   "id": "a9574053-0058-41d2-b64e-2d6f16161f48",
   "metadata": {},
   "source": [
    "<ol>\n",
    "<li>Mean Function</li>\n",
    "<li>Percentile method</li>\n",
    "<li>IQR(Inter quartile range method)</li>\n",
    "<li>Normal distribution</li>\n",
    "<li>Zscore method</li>\n",
    "</ol>\n",
    "<p>Also, plot the box plot(for all the numerical columns), histplot(to check the normality of the column(price per sqft column))</p>\n",
    "<p>Check the correlation between all the numerical columns and plot heatmap.</p>\n",
    "<p>Scatter plot between the variables to check the correlation between them.</p>"
   ]
  },
  {
   "cell_type": "markdown",
   "id": "8f313559-aad2-4b5a-beaf-7ea595891bec",
   "metadata": {},
   "source": [
    " # Outliers Detection"
   ]
  },
  {
   "cell_type": "code",
   "execution_count": 1,
   "id": "efbcf128-2f6c-4b68-bc81-814003552d18",
   "metadata": {},
   "outputs": [],
   "source": [
    "import numpy as np\n",
    "import pandas as pd\n",
    "import matplotlib.pyplot as plt\n",
    "import seaborn as sns "
   ]
  },
  {
   "cell_type": "code",
   "execution_count": 5,
   "id": "3b42c170-12ca-44b7-8343-27ca88b99eb1",
   "metadata": {},
   "outputs": [
    {
     "data": {
      "text/html": [
       "<div>\n",
       "<style scoped>\n",
       "    .dataframe tbody tr th:only-of-type {\n",
       "        vertical-align: middle;\n",
       "    }\n",
       "\n",
       "    .dataframe tbody tr th {\n",
       "        vertical-align: top;\n",
       "    }\n",
       "\n",
       "    .dataframe thead th {\n",
       "        text-align: right;\n",
       "    }\n",
       "</style>\n",
       "<table border=\"1\" class=\"dataframe\">\n",
       "  <thead>\n",
       "    <tr style=\"text-align: right;\">\n",
       "      <th></th>\n",
       "      <th>location</th>\n",
       "      <th>size</th>\n",
       "      <th>total_sqft</th>\n",
       "      <th>bath</th>\n",
       "      <th>price</th>\n",
       "      <th>bhk</th>\n",
       "      <th>price_per_sqft</th>\n",
       "    </tr>\n",
       "  </thead>\n",
       "  <tbody>\n",
       "    <tr>\n",
       "      <th>0</th>\n",
       "      <td>Electronic City Phase II</td>\n",
       "      <td>2 BHK</td>\n",
       "      <td>1056.0</td>\n",
       "      <td>2.0</td>\n",
       "      <td>39.07</td>\n",
       "      <td>2</td>\n",
       "      <td>3699</td>\n",
       "    </tr>\n",
       "    <tr>\n",
       "      <th>1</th>\n",
       "      <td>Chikka Tirupathi</td>\n",
       "      <td>4 Bedroom</td>\n",
       "      <td>2600.0</td>\n",
       "      <td>5.0</td>\n",
       "      <td>120.00</td>\n",
       "      <td>4</td>\n",
       "      <td>4615</td>\n",
       "    </tr>\n",
       "    <tr>\n",
       "      <th>2</th>\n",
       "      <td>Uttarahalli</td>\n",
       "      <td>3 BHK</td>\n",
       "      <td>1440.0</td>\n",
       "      <td>2.0</td>\n",
       "      <td>62.00</td>\n",
       "      <td>3</td>\n",
       "      <td>4305</td>\n",
       "    </tr>\n",
       "    <tr>\n",
       "      <th>3</th>\n",
       "      <td>Lingadheeranahalli</td>\n",
       "      <td>3 BHK</td>\n",
       "      <td>1521.0</td>\n",
       "      <td>3.0</td>\n",
       "      <td>95.00</td>\n",
       "      <td>3</td>\n",
       "      <td>6245</td>\n",
       "    </tr>\n",
       "    <tr>\n",
       "      <th>4</th>\n",
       "      <td>Kothanur</td>\n",
       "      <td>2 BHK</td>\n",
       "      <td>1200.0</td>\n",
       "      <td>2.0</td>\n",
       "      <td>51.00</td>\n",
       "      <td>2</td>\n",
       "      <td>4250</td>\n",
       "    </tr>\n",
       "    <tr>\n",
       "      <th>...</th>\n",
       "      <td>...</td>\n",
       "      <td>...</td>\n",
       "      <td>...</td>\n",
       "      <td>...</td>\n",
       "      <td>...</td>\n",
       "      <td>...</td>\n",
       "      <td>...</td>\n",
       "    </tr>\n",
       "    <tr>\n",
       "      <th>13195</th>\n",
       "      <td>Whitefield</td>\n",
       "      <td>5 Bedroom</td>\n",
       "      <td>3453.0</td>\n",
       "      <td>4.0</td>\n",
       "      <td>231.00</td>\n",
       "      <td>5</td>\n",
       "      <td>6689</td>\n",
       "    </tr>\n",
       "    <tr>\n",
       "      <th>13196</th>\n",
       "      <td>other</td>\n",
       "      <td>4 BHK</td>\n",
       "      <td>3600.0</td>\n",
       "      <td>5.0</td>\n",
       "      <td>400.00</td>\n",
       "      <td>4</td>\n",
       "      <td>11111</td>\n",
       "    </tr>\n",
       "    <tr>\n",
       "      <th>13197</th>\n",
       "      <td>Raja Rajeshwari Nagar</td>\n",
       "      <td>2 BHK</td>\n",
       "      <td>1141.0</td>\n",
       "      <td>2.0</td>\n",
       "      <td>60.00</td>\n",
       "      <td>2</td>\n",
       "      <td>5258</td>\n",
       "    </tr>\n",
       "    <tr>\n",
       "      <th>13198</th>\n",
       "      <td>Padmanabhanagar</td>\n",
       "      <td>4 BHK</td>\n",
       "      <td>4689.0</td>\n",
       "      <td>4.0</td>\n",
       "      <td>488.00</td>\n",
       "      <td>4</td>\n",
       "      <td>10407</td>\n",
       "    </tr>\n",
       "    <tr>\n",
       "      <th>13199</th>\n",
       "      <td>Doddathoguru</td>\n",
       "      <td>1 BHK</td>\n",
       "      <td>550.0</td>\n",
       "      <td>1.0</td>\n",
       "      <td>17.00</td>\n",
       "      <td>1</td>\n",
       "      <td>3090</td>\n",
       "    </tr>\n",
       "  </tbody>\n",
       "</table>\n",
       "<p>13200 rows × 7 columns</p>\n",
       "</div>"
      ],
      "text/plain": [
       "                       location       size  total_sqft  bath   price  bhk  \\\n",
       "0      Electronic City Phase II      2 BHK      1056.0   2.0   39.07    2   \n",
       "1              Chikka Tirupathi  4 Bedroom      2600.0   5.0  120.00    4   \n",
       "2                   Uttarahalli      3 BHK      1440.0   2.0   62.00    3   \n",
       "3            Lingadheeranahalli      3 BHK      1521.0   3.0   95.00    3   \n",
       "4                      Kothanur      2 BHK      1200.0   2.0   51.00    2   \n",
       "...                         ...        ...         ...   ...     ...  ...   \n",
       "13195                Whitefield  5 Bedroom      3453.0   4.0  231.00    5   \n",
       "13196                     other      4 BHK      3600.0   5.0  400.00    4   \n",
       "13197     Raja Rajeshwari Nagar      2 BHK      1141.0   2.0   60.00    2   \n",
       "13198           Padmanabhanagar      4 BHK      4689.0   4.0  488.00    4   \n",
       "13199              Doddathoguru      1 BHK       550.0   1.0   17.00    1   \n",
       "\n",
       "       price_per_sqft  \n",
       "0                3699  \n",
       "1                4615  \n",
       "2                4305  \n",
       "3                6245  \n",
       "4                4250  \n",
       "...               ...  \n",
       "13195            6689  \n",
       "13196           11111  \n",
       "13197            5258  \n",
       "13198           10407  \n",
       "13199            3090  \n",
       "\n",
       "[13200 rows x 7 columns]"
      ]
     },
     "execution_count": 5,
     "metadata": {},
     "output_type": "execute_result"
    }
   ],
   "source": [
    "df= pd.read_csv('C:\\\\Users\\\\hp\\\\Downloads\\\\house_price.csv')\n",
    "df"
   ]
  },
  {
   "cell_type": "code",
   "execution_count": 6,
   "id": "2458f15b-f512-4429-b10b-fd84990d1099",
   "metadata": {},
   "outputs": [
    {
     "name": "stdout",
     "output_type": "stream",
     "text": [
      "<class 'pandas.core.frame.DataFrame'>\n",
      "RangeIndex: 13200 entries, 0 to 13199\n",
      "Data columns (total 7 columns):\n",
      " #   Column          Non-Null Count  Dtype  \n",
      "---  ------          --------------  -----  \n",
      " 0   location        13200 non-null  object \n",
      " 1   size            13200 non-null  object \n",
      " 2   total_sqft      13200 non-null  float64\n",
      " 3   bath            13200 non-null  float64\n",
      " 4   price           13200 non-null  float64\n",
      " 5   bhk             13200 non-null  int64  \n",
      " 6   price_per_sqft  13200 non-null  int64  \n",
      "dtypes: float64(3), int64(2), object(2)\n",
      "memory usage: 722.0+ KB\n"
     ]
    }
   ],
   "source": [
    "df.info()"
   ]
  },
  {
   "cell_type": "code",
   "execution_count": 7,
   "id": "c53199e4-9a51-4ef9-8641-232e45990db2",
   "metadata": {},
   "outputs": [
    {
     "data": {
      "text/html": [
       "<div>\n",
       "<style scoped>\n",
       "    .dataframe tbody tr th:only-of-type {\n",
       "        vertical-align: middle;\n",
       "    }\n",
       "\n",
       "    .dataframe tbody tr th {\n",
       "        vertical-align: top;\n",
       "    }\n",
       "\n",
       "    .dataframe thead th {\n",
       "        text-align: right;\n",
       "    }\n",
       "</style>\n",
       "<table border=\"1\" class=\"dataframe\">\n",
       "  <thead>\n",
       "    <tr style=\"text-align: right;\">\n",
       "      <th></th>\n",
       "      <th>location</th>\n",
       "      <th>size</th>\n",
       "      <th>total_sqft</th>\n",
       "      <th>bath</th>\n",
       "      <th>price</th>\n",
       "      <th>bhk</th>\n",
       "      <th>price_per_sqft</th>\n",
       "    </tr>\n",
       "  </thead>\n",
       "  <tbody>\n",
       "    <tr>\n",
       "      <th>count</th>\n",
       "      <td>13200</td>\n",
       "      <td>13200</td>\n",
       "      <td>13200.000000</td>\n",
       "      <td>13200.000000</td>\n",
       "      <td>13200.000000</td>\n",
       "      <td>13200.000000</td>\n",
       "      <td>1.320000e+04</td>\n",
       "    </tr>\n",
       "    <tr>\n",
       "      <th>unique</th>\n",
       "      <td>241</td>\n",
       "      <td>31</td>\n",
       "      <td>NaN</td>\n",
       "      <td>NaN</td>\n",
       "      <td>NaN</td>\n",
       "      <td>NaN</td>\n",
       "      <td>NaN</td>\n",
       "    </tr>\n",
       "    <tr>\n",
       "      <th>top</th>\n",
       "      <td>other</td>\n",
       "      <td>2 BHK</td>\n",
       "      <td>NaN</td>\n",
       "      <td>NaN</td>\n",
       "      <td>NaN</td>\n",
       "      <td>NaN</td>\n",
       "      <td>NaN</td>\n",
       "    </tr>\n",
       "    <tr>\n",
       "      <th>freq</th>\n",
       "      <td>2872</td>\n",
       "      <td>5192</td>\n",
       "      <td>NaN</td>\n",
       "      <td>NaN</td>\n",
       "      <td>NaN</td>\n",
       "      <td>NaN</td>\n",
       "      <td>NaN</td>\n",
       "    </tr>\n",
       "    <tr>\n",
       "      <th>mean</th>\n",
       "      <td>NaN</td>\n",
       "      <td>NaN</td>\n",
       "      <td>1555.302783</td>\n",
       "      <td>2.691136</td>\n",
       "      <td>112.276178</td>\n",
       "      <td>2.800833</td>\n",
       "      <td>7.920337e+03</td>\n",
       "    </tr>\n",
       "    <tr>\n",
       "      <th>std</th>\n",
       "      <td>NaN</td>\n",
       "      <td>NaN</td>\n",
       "      <td>1237.323445</td>\n",
       "      <td>1.338915</td>\n",
       "      <td>149.175995</td>\n",
       "      <td>1.292843</td>\n",
       "      <td>1.067272e+05</td>\n",
       "    </tr>\n",
       "    <tr>\n",
       "      <th>min</th>\n",
       "      <td>NaN</td>\n",
       "      <td>NaN</td>\n",
       "      <td>1.000000</td>\n",
       "      <td>1.000000</td>\n",
       "      <td>8.000000</td>\n",
       "      <td>1.000000</td>\n",
       "      <td>2.670000e+02</td>\n",
       "    </tr>\n",
       "    <tr>\n",
       "      <th>25%</th>\n",
       "      <td>NaN</td>\n",
       "      <td>NaN</td>\n",
       "      <td>1100.000000</td>\n",
       "      <td>2.000000</td>\n",
       "      <td>50.000000</td>\n",
       "      <td>2.000000</td>\n",
       "      <td>4.267000e+03</td>\n",
       "    </tr>\n",
       "    <tr>\n",
       "      <th>50%</th>\n",
       "      <td>NaN</td>\n",
       "      <td>NaN</td>\n",
       "      <td>1275.000000</td>\n",
       "      <td>2.000000</td>\n",
       "      <td>71.850000</td>\n",
       "      <td>3.000000</td>\n",
       "      <td>5.438000e+03</td>\n",
       "    </tr>\n",
       "    <tr>\n",
       "      <th>75%</th>\n",
       "      <td>NaN</td>\n",
       "      <td>NaN</td>\n",
       "      <td>1672.000000</td>\n",
       "      <td>3.000000</td>\n",
       "      <td>120.000000</td>\n",
       "      <td>3.000000</td>\n",
       "      <td>7.317000e+03</td>\n",
       "    </tr>\n",
       "    <tr>\n",
       "      <th>max</th>\n",
       "      <td>NaN</td>\n",
       "      <td>NaN</td>\n",
       "      <td>52272.000000</td>\n",
       "      <td>40.000000</td>\n",
       "      <td>3600.000000</td>\n",
       "      <td>43.000000</td>\n",
       "      <td>1.200000e+07</td>\n",
       "    </tr>\n",
       "  </tbody>\n",
       "</table>\n",
       "</div>"
      ],
      "text/plain": [
       "       location   size    total_sqft          bath         price  \\\n",
       "count     13200  13200  13200.000000  13200.000000  13200.000000   \n",
       "unique      241     31           NaN           NaN           NaN   \n",
       "top       other  2 BHK           NaN           NaN           NaN   \n",
       "freq       2872   5192           NaN           NaN           NaN   \n",
       "mean        NaN    NaN   1555.302783      2.691136    112.276178   \n",
       "std         NaN    NaN   1237.323445      1.338915    149.175995   \n",
       "min         NaN    NaN      1.000000      1.000000      8.000000   \n",
       "25%         NaN    NaN   1100.000000      2.000000     50.000000   \n",
       "50%         NaN    NaN   1275.000000      2.000000     71.850000   \n",
       "75%         NaN    NaN   1672.000000      3.000000    120.000000   \n",
       "max         NaN    NaN  52272.000000     40.000000   3600.000000   \n",
       "\n",
       "                 bhk  price_per_sqft  \n",
       "count   13200.000000    1.320000e+04  \n",
       "unique           NaN             NaN  \n",
       "top              NaN             NaN  \n",
       "freq             NaN             NaN  \n",
       "mean        2.800833    7.920337e+03  \n",
       "std         1.292843    1.067272e+05  \n",
       "min         1.000000    2.670000e+02  \n",
       "25%         2.000000    4.267000e+03  \n",
       "50%         3.000000    5.438000e+03  \n",
       "75%         3.000000    7.317000e+03  \n",
       "max        43.000000    1.200000e+07  "
      ]
     },
     "execution_count": 7,
     "metadata": {},
     "output_type": "execute_result"
    }
   ],
   "source": [
    "df.describe(include=\"all\")"
   ]
  },
  {
   "cell_type": "code",
   "execution_count": 8,
   "id": "2938f4a4-4257-4018-80fa-9cae706230cc",
   "metadata": {},
   "outputs": [
    {
     "data": {
      "text/plain": [
       "<bound method DataFrame.notnull of                        location       size  total_sqft  bath   price  bhk  \\\n",
       "0      Electronic City Phase II      2 BHK      1056.0   2.0   39.07    2   \n",
       "1              Chikka Tirupathi  4 Bedroom      2600.0   5.0  120.00    4   \n",
       "2                   Uttarahalli      3 BHK      1440.0   2.0   62.00    3   \n",
       "3            Lingadheeranahalli      3 BHK      1521.0   3.0   95.00    3   \n",
       "4                      Kothanur      2 BHK      1200.0   2.0   51.00    2   \n",
       "...                         ...        ...         ...   ...     ...  ...   \n",
       "13195                Whitefield  5 Bedroom      3453.0   4.0  231.00    5   \n",
       "13196                     other      4 BHK      3600.0   5.0  400.00    4   \n",
       "13197     Raja Rajeshwari Nagar      2 BHK      1141.0   2.0   60.00    2   \n",
       "13198           Padmanabhanagar      4 BHK      4689.0   4.0  488.00    4   \n",
       "13199              Doddathoguru      1 BHK       550.0   1.0   17.00    1   \n",
       "\n",
       "       price_per_sqft  \n",
       "0                3699  \n",
       "1                4615  \n",
       "2                4305  \n",
       "3                6245  \n",
       "4                4250  \n",
       "...               ...  \n",
       "13195            6689  \n",
       "13196           11111  \n",
       "13197            5258  \n",
       "13198           10407  \n",
       "13199            3090  \n",
       "\n",
       "[13200 rows x 7 columns]>"
      ]
     },
     "execution_count": 8,
     "metadata": {},
     "output_type": "execute_result"
    }
   ],
   "source": [
    "df.notnull"
   ]
  },
  {
   "cell_type": "code",
   "execution_count": 11,
   "id": "00b27bfc-86bb-4b7b-bd80-21227f365c06",
   "metadata": {},
   "outputs": [
    {
     "data": {
      "text/plain": [
       "1049"
      ]
     },
     "execution_count": 11,
     "metadata": {},
     "output_type": "execute_result"
    }
   ],
   "source": [
    "df.duplicated().sum()"
   ]
  },
  {
   "cell_type": "markdown",
   "id": "b5376c21-9d41-48e9-b807-79e05f82c666",
   "metadata": {},
   "source": [
    "<p>So here duplicate rows we have.So we need to remove it.</p>"
   ]
  },
  {
   "cell_type": "code",
   "execution_count": 2,
   "id": "13721823-44e4-46f6-8fc8-b7eaf15c7860",
   "metadata": {},
   "outputs": [
    {
     "data": {
      "text/html": [
       "<div>\n",
       "<style scoped>\n",
       "    .dataframe tbody tr th:only-of-type {\n",
       "        vertical-align: middle;\n",
       "    }\n",
       "\n",
       "    .dataframe tbody tr th {\n",
       "        vertical-align: top;\n",
       "    }\n",
       "\n",
       "    .dataframe thead th {\n",
       "        text-align: right;\n",
       "    }\n",
       "</style>\n",
       "<table border=\"1\" class=\"dataframe\">\n",
       "  <thead>\n",
       "    <tr style=\"text-align: right;\">\n",
       "      <th></th>\n",
       "      <th>location</th>\n",
       "      <th>size</th>\n",
       "      <th>total_sqft</th>\n",
       "      <th>bath</th>\n",
       "      <th>price</th>\n",
       "      <th>bhk</th>\n",
       "      <th>price_per_sqft</th>\n",
       "    </tr>\n",
       "  </thead>\n",
       "  <tbody>\n",
       "    <tr>\n",
       "      <th>0</th>\n",
       "      <td>Electronic City Phase II</td>\n",
       "      <td>2 BHK</td>\n",
       "      <td>1056.0</td>\n",
       "      <td>2</td>\n",
       "      <td>39.07</td>\n",
       "      <td>2</td>\n",
       "      <td>3699</td>\n",
       "    </tr>\n",
       "    <tr>\n",
       "      <th>1</th>\n",
       "      <td>Chikka Tirupathi</td>\n",
       "      <td>4 Bedroom</td>\n",
       "      <td>2600.0</td>\n",
       "      <td>5</td>\n",
       "      <td>120.00</td>\n",
       "      <td>4</td>\n",
       "      <td>4615</td>\n",
       "    </tr>\n",
       "    <tr>\n",
       "      <th>2</th>\n",
       "      <td>Uttarahalli</td>\n",
       "      <td>3 BHK</td>\n",
       "      <td>1440.0</td>\n",
       "      <td>2</td>\n",
       "      <td>62.00</td>\n",
       "      <td>3</td>\n",
       "      <td>4305</td>\n",
       "    </tr>\n",
       "    <tr>\n",
       "      <th>3</th>\n",
       "      <td>Lingadheeranahalli</td>\n",
       "      <td>3 BHK</td>\n",
       "      <td>1521.0</td>\n",
       "      <td>3</td>\n",
       "      <td>95.00</td>\n",
       "      <td>3</td>\n",
       "      <td>6245</td>\n",
       "    </tr>\n",
       "    <tr>\n",
       "      <th>4</th>\n",
       "      <td>Kothanur</td>\n",
       "      <td>2 BHK</td>\n",
       "      <td>1200.0</td>\n",
       "      <td>2</td>\n",
       "      <td>51.00</td>\n",
       "      <td>2</td>\n",
       "      <td>4250</td>\n",
       "    </tr>\n",
       "    <tr>\n",
       "      <th>...</th>\n",
       "      <td>...</td>\n",
       "      <td>...</td>\n",
       "      <td>...</td>\n",
       "      <td>...</td>\n",
       "      <td>...</td>\n",
       "      <td>...</td>\n",
       "      <td>...</td>\n",
       "    </tr>\n",
       "    <tr>\n",
       "      <th>12146</th>\n",
       "      <td>Green Glen Layout</td>\n",
       "      <td>3 BHK</td>\n",
       "      <td>1715.0</td>\n",
       "      <td>3</td>\n",
       "      <td>112.00</td>\n",
       "      <td>3</td>\n",
       "      <td>6530</td>\n",
       "    </tr>\n",
       "    <tr>\n",
       "      <th>12147</th>\n",
       "      <td>Whitefield</td>\n",
       "      <td>5 Bedroom</td>\n",
       "      <td>3453.0</td>\n",
       "      <td>4</td>\n",
       "      <td>231.00</td>\n",
       "      <td>5</td>\n",
       "      <td>6689</td>\n",
       "    </tr>\n",
       "    <tr>\n",
       "      <th>12148</th>\n",
       "      <td>other</td>\n",
       "      <td>4 BHK</td>\n",
       "      <td>3600.0</td>\n",
       "      <td>5</td>\n",
       "      <td>400.00</td>\n",
       "      <td>4</td>\n",
       "      <td>11111</td>\n",
       "    </tr>\n",
       "    <tr>\n",
       "      <th>12149</th>\n",
       "      <td>Raja Rajeshwari Nagar</td>\n",
       "      <td>2 BHK</td>\n",
       "      <td>1141.0</td>\n",
       "      <td>2</td>\n",
       "      <td>60.00</td>\n",
       "      <td>2</td>\n",
       "      <td>5258</td>\n",
       "    </tr>\n",
       "    <tr>\n",
       "      <th>12150</th>\n",
       "      <td>Padmanabhanagar</td>\n",
       "      <td>4 BHK</td>\n",
       "      <td>4689.0</td>\n",
       "      <td>4</td>\n",
       "      <td>488.00</td>\n",
       "      <td>4</td>\n",
       "      <td>10407</td>\n",
       "    </tr>\n",
       "  </tbody>\n",
       "</table>\n",
       "<p>12151 rows × 7 columns</p>\n",
       "</div>"
      ],
      "text/plain": [
       "                       location       size  total_sqft  bath   price  bhk  \\\n",
       "0      Electronic City Phase II      2 BHK      1056.0     2   39.07    2   \n",
       "1              Chikka Tirupathi  4 Bedroom      2600.0     5  120.00    4   \n",
       "2                   Uttarahalli      3 BHK      1440.0     2   62.00    3   \n",
       "3            Lingadheeranahalli      3 BHK      1521.0     3   95.00    3   \n",
       "4                      Kothanur      2 BHK      1200.0     2   51.00    2   \n",
       "...                         ...        ...         ...   ...     ...  ...   \n",
       "12146         Green Glen Layout      3 BHK      1715.0     3  112.00    3   \n",
       "12147                Whitefield  5 Bedroom      3453.0     4  231.00    5   \n",
       "12148                     other      4 BHK      3600.0     5  400.00    4   \n",
       "12149     Raja Rajeshwari Nagar      2 BHK      1141.0     2   60.00    2   \n",
       "12150           Padmanabhanagar      4 BHK      4689.0     4  488.00    4   \n",
       "\n",
       "       price_per_sqft  \n",
       "0                3699  \n",
       "1                4615  \n",
       "2                4305  \n",
       "3                6245  \n",
       "4                4250  \n",
       "...               ...  \n",
       "12146            6530  \n",
       "12147            6689  \n",
       "12148           11111  \n",
       "12149            5258  \n",
       "12150           10407  \n",
       "\n",
       "[12151 rows x 7 columns]"
      ]
     },
     "execution_count": 2,
     "metadata": {},
     "output_type": "execute_result"
    }
   ],
   "source": [
    "df= pd.read_csv('C:\\\\Users\\\\hp\\\\Downloads\\\\house_price.csv')\n",
    "df"
   ]
  },
  {
   "cell_type": "code",
   "execution_count": 13,
   "id": "27cb629f-3e47-4feb-b7dd-4bce15e1f4be",
   "metadata": {},
   "outputs": [
    {
     "data": {
      "text/plain": [
       "location          0\n",
       "size              0\n",
       "total_sqft        0\n",
       "bath              0\n",
       "price             0\n",
       "bhk               0\n",
       "price_per_sqft    0\n",
       "dtype: int64"
      ]
     },
     "execution_count": 13,
     "metadata": {},
     "output_type": "execute_result"
    }
   ],
   "source": [
    "df.isnull().sum()"
   ]
  },
  {
   "cell_type": "code",
   "execution_count": 16,
   "id": "068cd0e3-e5aa-4b47-86a4-b801c3ba5587",
   "metadata": {},
   "outputs": [
    {
     "data": {
      "text/plain": [
       "<bound method DataFrame.isnull of                        location       size  total_sqft  bath   price  bhk  \\\n",
       "0      Electronic City Phase II      2 BHK      1056.0     2   39.07    2   \n",
       "1              Chikka Tirupathi  4 Bedroom      2600.0     5  120.00    4   \n",
       "2                   Uttarahalli      3 BHK      1440.0     2   62.00    3   \n",
       "3            Lingadheeranahalli      3 BHK      1521.0     3   95.00    3   \n",
       "4                      Kothanur      2 BHK      1200.0     2   51.00    2   \n",
       "...                         ...        ...         ...   ...     ...  ...   \n",
       "12146         Green Glen Layout      3 BHK      1715.0     3  112.00    3   \n",
       "12147                Whitefield  5 Bedroom      3453.0     4  231.00    5   \n",
       "12148                     other      4 BHK      3600.0     5  400.00    4   \n",
       "12149     Raja Rajeshwari Nagar      2 BHK      1141.0     2   60.00    2   \n",
       "12150           Padmanabhanagar      4 BHK      4689.0     4  488.00    4   \n",
       "\n",
       "       price_per_sqft  \n",
       "0                3699  \n",
       "1                4615  \n",
       "2                4305  \n",
       "3                6245  \n",
       "4                4250  \n",
       "...               ...  \n",
       "12146            6530  \n",
       "12147            6689  \n",
       "12148           11111  \n",
       "12149            5258  \n",
       "12150           10407  \n",
       "\n",
       "[12151 rows x 7 columns]>"
      ]
     },
     "execution_count": 16,
     "metadata": {},
     "output_type": "execute_result"
    }
   ],
   "source": [
    "df.isnull"
   ]
  },
  {
   "cell_type": "code",
   "execution_count": 17,
   "id": "c17bebc1-aad9-4474-9df4-3fcbe1d42207",
   "metadata": {},
   "outputs": [
    {
     "data": {
      "text/plain": [
       "<bound method DataFrame.notnull of                        location       size  total_sqft  bath   price  bhk  \\\n",
       "0      Electronic City Phase II      2 BHK      1056.0     2   39.07    2   \n",
       "1              Chikka Tirupathi  4 Bedroom      2600.0     5  120.00    4   \n",
       "2                   Uttarahalli      3 BHK      1440.0     2   62.00    3   \n",
       "3            Lingadheeranahalli      3 BHK      1521.0     3   95.00    3   \n",
       "4                      Kothanur      2 BHK      1200.0     2   51.00    2   \n",
       "...                         ...        ...         ...   ...     ...  ...   \n",
       "12146         Green Glen Layout      3 BHK      1715.0     3  112.00    3   \n",
       "12147                Whitefield  5 Bedroom      3453.0     4  231.00    5   \n",
       "12148                     other      4 BHK      3600.0     5  400.00    4   \n",
       "12149     Raja Rajeshwari Nagar      2 BHK      1141.0     2   60.00    2   \n",
       "12150           Padmanabhanagar      4 BHK      4689.0     4  488.00    4   \n",
       "\n",
       "       price_per_sqft  \n",
       "0                3699  \n",
       "1                4615  \n",
       "2                4305  \n",
       "3                6245  \n",
       "4                4250  \n",
       "...               ...  \n",
       "12146            6530  \n",
       "12147            6689  \n",
       "12148           11111  \n",
       "12149            5258  \n",
       "12150           10407  \n",
       "\n",
       "[12151 rows x 7 columns]>"
      ]
     },
     "execution_count": 17,
     "metadata": {},
     "output_type": "execute_result"
    }
   ],
   "source": [
    "df.notnull"
   ]
  },
  {
   "cell_type": "code",
   "execution_count": 18,
   "id": "0721a211-155a-4b99-87e1-f1c17433d590",
   "metadata": {},
   "outputs": [
    {
     "data": {
      "text/plain": [
       "(12151, 7)"
      ]
     },
     "execution_count": 18,
     "metadata": {},
     "output_type": "execute_result"
    }
   ],
   "source": [
    "df.shape"
   ]
  },
  {
   "cell_type": "markdown",
   "id": "5e1f758d-045f-4912-8e8a-6e9843ee8b66",
   "metadata": {},
   "source": [
    "# 1.Mean Function"
   ]
  },
  {
   "cell_type": "code",
   "execution_count": 19,
   "id": "d011625c-bc0e-4fe7-9813-633364cb235c",
   "metadata": {},
   "outputs": [
    {
     "data": {
      "text/plain": [
       "267"
      ]
     },
     "execution_count": 19,
     "metadata": {},
     "output_type": "execute_result"
    }
   ],
   "source": [
    "df.price_per_sqft.min()"
   ]
  },
  {
   "cell_type": "code",
   "execution_count": 20,
   "id": "0f7c9403-8c17-4a85-acc0-2e79cc7a7de7",
   "metadata": {},
   "outputs": [
    {
     "data": {
      "text/plain": [
       "12000000"
      ]
     },
     "execution_count": 20,
     "metadata": {},
     "output_type": "execute_result"
    }
   ],
   "source": [
    "df.price_per_sqft.max()"
   ]
  },
  {
   "cell_type": "code",
   "execution_count": 21,
   "id": "5f984d00-1bcc-4e41-af0b-b2ea9908f5d1",
   "metadata": {},
   "outputs": [
    {
     "data": {
      "text/plain": [
       "8132.641840177763"
      ]
     },
     "execution_count": 21,
     "metadata": {},
     "output_type": "execute_result"
    }
   ],
   "source": [
    "df.price_per_sqft.mean()"
   ]
  },
  {
   "cell_type": "code",
   "execution_count": 22,
   "id": "f16dba4d-da99-4a91-931c-e54ea040c7e6",
   "metadata": {},
   "outputs": [
    {
     "data": {
      "text/plain": [
       "5500.0"
      ]
     },
     "execution_count": 22,
     "metadata": {},
     "output_type": "execute_result"
    }
   ],
   "source": [
    "df.price_per_sqft.median()"
   ]
  },
  {
   "cell_type": "markdown",
   "id": "2a2e6884-8f44-41be-ad09-db0a0c4685d6",
   "metadata": {},
   "source": [
    "<p><b>Here there is a difference between mean & median.So Outliers exists here.</b></p>"
   ]
  },
  {
   "cell_type": "code",
   "execution_count": 23,
   "id": "ae1d0fdb-d3ff-454d-a13b-13cc4ba3e80b",
   "metadata": {},
   "outputs": [
    {
     "name": "stderr",
     "output_type": "stream",
     "text": [
      "C:\\Users\\hp\\AppData\\Local\\Temp\\ipykernel_11712\\2779792715.py:1: UserWarning: \n",
      "\n",
      "`distplot` is a deprecated function and will be removed in seaborn v0.14.0.\n",
      "\n",
      "Please adapt your code to use either `displot` (a figure-level function with\n",
      "similar flexibility) or `histplot` (an axes-level function for histograms).\n",
      "\n",
      "For a guide to updating your code to use the new functions, please see\n",
      "https://gist.github.com/mwaskom/de44147ed2974457ad6372750bbe5751\n",
      "\n",
      "  sns.distplot(df['price_per_sqft'],color='g')\n"
     ]
    },
    {
     "data": {
      "text/plain": [
       "Text(0.5, 1.0, 'Distribution of price per sqft with Outliers')"
      ]
     },
     "execution_count": 23,
     "metadata": {},
     "output_type": "execute_result"
    },
    {
     "data": {
      "image/png": "[encoded data removed]",
      "text/plain": [
       "<Figure size 640x480 with 1 Axes>"
      ]
     },
     "metadata": {},
     "output_type": "display_data"
    }
   ],
   "source": [
    "sns.distplot(df['price_per_sqft'],color='g')\n",
    "plt.title('Distribution of price per sqft with Outliers',color='g')"
   ]
  },
  {
   "cell_type": "code",
   "execution_count": 26,
   "id": "4efafb08-b988-40de-aded-a2a16ac18ad1",
   "metadata": {},
   "outputs": [
    {
     "data": {
      "text/plain": [
       "<Axes: ylabel='price_per_sqft'>"
      ]
     },
     "execution_count": 26,
     "metadata": {},
     "output_type": "execute_result"
    },
    {
     "data": {
      "image/png": "[encoded data removed]",
      "text/plain": [
       "<Figure size 640x480 with 1 Axes>"
      ]
     },
     "metadata": {},
     "output_type": "display_data"
    }
   ],
   "source": [
    "sns.boxplot(df['price_per_sqft'],color='g')"
   ]
  },
  {
   "cell_type": "markdown",
   "id": "71ef3b1d-20b2-4c8f-a028-1ac39c40c62f",
   "metadata": {},
   "source": [
    "#### Quantile() to find out the percentiles."
   ]
  },
  {
   "cell_type": "code",
   "execution_count": 27,
   "id": "1041819c-0a8e-4fcd-af6f-1fc554bf2d4c",
   "metadata": {},
   "outputs": [
    {
     "data": {
      "text/plain": [
       "0.05     3150.0\n",
       "0.10     3513.0\n",
       "0.25     4312.0\n",
       "0.50     5500.0\n",
       "0.75     7461.0\n",
       "0.90    11904.0\n",
       "0.92    13129.0\n",
       "0.94    14695.0\n",
       "0.96    16666.0\n",
       "0.98    20000.0\n",
       "0.99    24000.0\n",
       "Name: price_per_sqft, dtype: float64"
      ]
     },
     "execution_count": 27,
     "metadata": {},
     "output_type": "execute_result"
    }
   ],
   "source": [
    "df.price_per_sqft.quantile([0.05,0.1,0.25,0.5,0.75,0.90,0.92,0.94,0.96,0.98,0.99])\n"
   ]
  },
  {
   "cell_type": "markdown",
   "id": "af16966e-4562-4837-8729-8f1aa0f5c93c",
   "metadata": {},
   "source": [
    "Here a significant variation between 98 & 99 percentile,this indicate a presence of outliers."
   ]
  },
  {
   "cell_type": "code",
   "execution_count": 28,
   "id": "854376bf-752a-4bfd-ba50-aeba339e9fa4",
   "metadata": {},
   "outputs": [
    {
     "data": {
      "text/html": [
       "<div>\n",
       "<style scoped>\n",
       "    .dataframe tbody tr th:only-of-type {\n",
       "        vertical-align: middle;\n",
       "    }\n",
       "\n",
       "    .dataframe tbody tr th {\n",
       "        vertical-align: top;\n",
       "    }\n",
       "\n",
       "    .dataframe thead th {\n",
       "        text-align: right;\n",
       "    }\n",
       "</style>\n",
       "<table border=\"1\" class=\"dataframe\">\n",
       "  <thead>\n",
       "    <tr style=\"text-align: right;\">\n",
       "      <th></th>\n",
       "      <th>location</th>\n",
       "      <th>size</th>\n",
       "      <th>total_sqft</th>\n",
       "      <th>bath</th>\n",
       "      <th>price</th>\n",
       "      <th>bhk</th>\n",
       "      <th>price_per_sqft</th>\n",
       "    </tr>\n",
       "  </thead>\n",
       "  <tbody>\n",
       "    <tr>\n",
       "      <th>7</th>\n",
       "      <td>Rajaji Nagar</td>\n",
       "      <td>4 BHK</td>\n",
       "      <td>3300.0</td>\n",
       "      <td>4</td>\n",
       "      <td>600.0</td>\n",
       "      <td>4</td>\n",
       "      <td>18181</td>\n",
       "    </tr>\n",
       "    <tr>\n",
       "      <th>9</th>\n",
       "      <td>other</td>\n",
       "      <td>6 Bedroom</td>\n",
       "      <td>1020.0</td>\n",
       "      <td>6</td>\n",
       "      <td>370.0</td>\n",
       "      <td>6</td>\n",
       "      <td>36274</td>\n",
       "    </tr>\n",
       "    <tr>\n",
       "      <th>45</th>\n",
       "      <td>HSR Layout</td>\n",
       "      <td>8 Bedroom</td>\n",
       "      <td>600.0</td>\n",
       "      <td>9</td>\n",
       "      <td>200.0</td>\n",
       "      <td>8</td>\n",
       "      <td>33333</td>\n",
       "    </tr>\n",
       "    <tr>\n",
       "      <th>48</th>\n",
       "      <td>KR Puram</td>\n",
       "      <td>2 Bedroom</td>\n",
       "      <td>800.0</td>\n",
       "      <td>1</td>\n",
       "      <td>130.0</td>\n",
       "      <td>2</td>\n",
       "      <td>16250</td>\n",
       "    </tr>\n",
       "    <tr>\n",
       "      <th>69</th>\n",
       "      <td>other</td>\n",
       "      <td>3 Bedroom</td>\n",
       "      <td>500.0</td>\n",
       "      <td>3</td>\n",
       "      <td>100.0</td>\n",
       "      <td>3</td>\n",
       "      <td>20000</td>\n",
       "    </tr>\n",
       "    <tr>\n",
       "      <th>...</th>\n",
       "      <td>...</td>\n",
       "      <td>...</td>\n",
       "      <td>...</td>\n",
       "      <td>...</td>\n",
       "      <td>...</td>\n",
       "      <td>...</td>\n",
       "      <td>...</td>\n",
       "    </tr>\n",
       "    <tr>\n",
       "      <th>12047</th>\n",
       "      <td>other</td>\n",
       "      <td>6 Bedroom</td>\n",
       "      <td>8000.0</td>\n",
       "      <td>6</td>\n",
       "      <td>2800.0</td>\n",
       "      <td>6</td>\n",
       "      <td>35000</td>\n",
       "    </tr>\n",
       "    <tr>\n",
       "      <th>12062</th>\n",
       "      <td>other</td>\n",
       "      <td>1 BHK</td>\n",
       "      <td>250.0</td>\n",
       "      <td>2</td>\n",
       "      <td>40.0</td>\n",
       "      <td>1</td>\n",
       "      <td>16000</td>\n",
       "    </tr>\n",
       "    <tr>\n",
       "      <th>12102</th>\n",
       "      <td>other</td>\n",
       "      <td>3 Bedroom</td>\n",
       "      <td>2000.0</td>\n",
       "      <td>2</td>\n",
       "      <td>360.0</td>\n",
       "      <td>3</td>\n",
       "      <td>18000</td>\n",
       "    </tr>\n",
       "    <tr>\n",
       "      <th>12103</th>\n",
       "      <td>other</td>\n",
       "      <td>2 BHK</td>\n",
       "      <td>1140.0</td>\n",
       "      <td>1</td>\n",
       "      <td>185.0</td>\n",
       "      <td>2</td>\n",
       "      <td>16228</td>\n",
       "    </tr>\n",
       "    <tr>\n",
       "      <th>12140</th>\n",
       "      <td>Hulimavu</td>\n",
       "      <td>1 BHK</td>\n",
       "      <td>500.0</td>\n",
       "      <td>1</td>\n",
       "      <td>220.0</td>\n",
       "      <td>1</td>\n",
       "      <td>44000</td>\n",
       "    </tr>\n",
       "  </tbody>\n",
       "</table>\n",
       "<p>607 rows × 7 columns</p>\n",
       "</div>"
      ],
      "text/plain": [
       "           location       size  total_sqft  bath   price  bhk  price_per_sqft\n",
       "7      Rajaji Nagar      4 BHK      3300.0     4   600.0    4           18181\n",
       "9             other  6 Bedroom      1020.0     6   370.0    6           36274\n",
       "45       HSR Layout  8 Bedroom       600.0     9   200.0    8           33333\n",
       "48         KR Puram  2 Bedroom       800.0     1   130.0    2           16250\n",
       "69            other  3 Bedroom       500.0     3   100.0    3           20000\n",
       "...             ...        ...         ...   ...     ...  ...             ...\n",
       "12047         other  6 Bedroom      8000.0     6  2800.0    6           35000\n",
       "12062         other      1 BHK       250.0     2    40.0    1           16000\n",
       "12102         other  3 Bedroom      2000.0     2   360.0    3           18000\n",
       "12103         other      2 BHK      1140.0     1   185.0    2           16228\n",
       "12140      Hulimavu      1 BHK       500.0     1   220.0    1           44000\n",
       "\n",
       "[607 rows x 7 columns]"
      ]
     },
     "execution_count": 28,
     "metadata": {},
     "output_type": "execute_result"
    }
   ],
   "source": [
    "df[df.price_per_sqft>df.price_per_sqft.quantile(0.95)] #outliers"
   ]
  },
  {
   "cell_type": "code",
   "execution_count": 29,
   "id": "bfbb831c-234c-4bd4-b5d2-46a9a1a9d8e1",
   "metadata": {},
   "outputs": [
    {
     "data": {
      "text/html": [
       "<div>\n",
       "<style scoped>\n",
       "    .dataframe tbody tr th:only-of-type {\n",
       "        vertical-align: middle;\n",
       "    }\n",
       "\n",
       "    .dataframe tbody tr th {\n",
       "        vertical-align: top;\n",
       "    }\n",
       "\n",
       "    .dataframe thead th {\n",
       "        text-align: right;\n",
       "    }\n",
       "</style>\n",
       "<table border=\"1\" class=\"dataframe\">\n",
       "  <thead>\n",
       "    <tr style=\"text-align: right;\">\n",
       "      <th></th>\n",
       "      <th>location</th>\n",
       "      <th>size</th>\n",
       "      <th>total_sqft</th>\n",
       "      <th>bath</th>\n",
       "      <th>price</th>\n",
       "      <th>bhk</th>\n",
       "      <th>price_per_sqft</th>\n",
       "    </tr>\n",
       "  </thead>\n",
       "  <tbody>\n",
       "    <tr>\n",
       "      <th>0</th>\n",
       "      <td>Electronic City Phase II</td>\n",
       "      <td>2 BHK</td>\n",
       "      <td>1056.0</td>\n",
       "      <td>2</td>\n",
       "      <td>39.07</td>\n",
       "      <td>2</td>\n",
       "      <td>3699</td>\n",
       "    </tr>\n",
       "    <tr>\n",
       "      <th>1</th>\n",
       "      <td>Chikka Tirupathi</td>\n",
       "      <td>4 Bedroom</td>\n",
       "      <td>2600.0</td>\n",
       "      <td>5</td>\n",
       "      <td>120.00</td>\n",
       "      <td>4</td>\n",
       "      <td>4615</td>\n",
       "    </tr>\n",
       "    <tr>\n",
       "      <th>2</th>\n",
       "      <td>Uttarahalli</td>\n",
       "      <td>3 BHK</td>\n",
       "      <td>1440.0</td>\n",
       "      <td>2</td>\n",
       "      <td>62.00</td>\n",
       "      <td>3</td>\n",
       "      <td>4305</td>\n",
       "    </tr>\n",
       "    <tr>\n",
       "      <th>3</th>\n",
       "      <td>Lingadheeranahalli</td>\n",
       "      <td>3 BHK</td>\n",
       "      <td>1521.0</td>\n",
       "      <td>3</td>\n",
       "      <td>95.00</td>\n",
       "      <td>3</td>\n",
       "      <td>6245</td>\n",
       "    </tr>\n",
       "    <tr>\n",
       "      <th>4</th>\n",
       "      <td>Kothanur</td>\n",
       "      <td>2 BHK</td>\n",
       "      <td>1200.0</td>\n",
       "      <td>2</td>\n",
       "      <td>51.00</td>\n",
       "      <td>2</td>\n",
       "      <td>4250</td>\n",
       "    </tr>\n",
       "    <tr>\n",
       "      <th>...</th>\n",
       "      <td>...</td>\n",
       "      <td>...</td>\n",
       "      <td>...</td>\n",
       "      <td>...</td>\n",
       "      <td>...</td>\n",
       "      <td>...</td>\n",
       "      <td>...</td>\n",
       "    </tr>\n",
       "    <tr>\n",
       "      <th>12146</th>\n",
       "      <td>Green Glen Layout</td>\n",
       "      <td>3 BHK</td>\n",
       "      <td>1715.0</td>\n",
       "      <td>3</td>\n",
       "      <td>112.00</td>\n",
       "      <td>3</td>\n",
       "      <td>6530</td>\n",
       "    </tr>\n",
       "    <tr>\n",
       "      <th>12147</th>\n",
       "      <td>Whitefield</td>\n",
       "      <td>5 Bedroom</td>\n",
       "      <td>3453.0</td>\n",
       "      <td>4</td>\n",
       "      <td>231.00</td>\n",
       "      <td>5</td>\n",
       "      <td>6689</td>\n",
       "    </tr>\n",
       "    <tr>\n",
       "      <th>12148</th>\n",
       "      <td>other</td>\n",
       "      <td>4 BHK</td>\n",
       "      <td>3600.0</td>\n",
       "      <td>5</td>\n",
       "      <td>400.00</td>\n",
       "      <td>4</td>\n",
       "      <td>11111</td>\n",
       "    </tr>\n",
       "    <tr>\n",
       "      <th>12149</th>\n",
       "      <td>Raja Rajeshwari Nagar</td>\n",
       "      <td>2 BHK</td>\n",
       "      <td>1141.0</td>\n",
       "      <td>2</td>\n",
       "      <td>60.00</td>\n",
       "      <td>2</td>\n",
       "      <td>5258</td>\n",
       "    </tr>\n",
       "    <tr>\n",
       "      <th>12150</th>\n",
       "      <td>Padmanabhanagar</td>\n",
       "      <td>4 BHK</td>\n",
       "      <td>4689.0</td>\n",
       "      <td>4</td>\n",
       "      <td>488.00</td>\n",
       "      <td>4</td>\n",
       "      <td>10407</td>\n",
       "    </tr>\n",
       "  </tbody>\n",
       "</table>\n",
       "<p>11542 rows × 7 columns</p>\n",
       "</div>"
      ],
      "text/plain": [
       "                       location       size  total_sqft  bath   price  bhk  \\\n",
       "0      Electronic City Phase II      2 BHK      1056.0     2   39.07    2   \n",
       "1              Chikka Tirupathi  4 Bedroom      2600.0     5  120.00    4   \n",
       "2                   Uttarahalli      3 BHK      1440.0     2   62.00    3   \n",
       "3            Lingadheeranahalli      3 BHK      1521.0     3   95.00    3   \n",
       "4                      Kothanur      2 BHK      1200.0     2   51.00    2   \n",
       "...                         ...        ...         ...   ...     ...  ...   \n",
       "12146         Green Glen Layout      3 BHK      1715.0     3  112.00    3   \n",
       "12147                Whitefield  5 Bedroom      3453.0     4  231.00    5   \n",
       "12148                     other      4 BHK      3600.0     5  400.00    4   \n",
       "12149     Raja Rajeshwari Nagar      2 BHK      1141.0     2   60.00    2   \n",
       "12150           Padmanabhanagar      4 BHK      4689.0     4  488.00    4   \n",
       "\n",
       "       price_per_sqft  \n",
       "0                3699  \n",
       "1                4615  \n",
       "2                4305  \n",
       "3                6245  \n",
       "4                4250  \n",
       "...               ...  \n",
       "12146            6530  \n",
       "12147            6689  \n",
       "12148           11111  \n",
       "12149            5258  \n",
       "12150           10407  \n",
       "\n",
       "[11542 rows x 7 columns]"
      ]
     },
     "execution_count": 29,
     "metadata": {},
     "output_type": "execute_result"
    }
   ],
   "source": [
    "#Data without outliers\n",
    "df1=df[df.price_per_sqft<df.price_per_sqft.quantile(0.95)]\n",
    "df1"
   ]
  },
  {
   "cell_type": "code",
   "execution_count": 31,
   "id": "e2b92131-85f7-42cb-a01f-7678d788d536",
   "metadata": {},
   "outputs": [
    {
     "name": "stderr",
     "output_type": "stream",
     "text": [
      "C:\\Users\\hp\\AppData\\Local\\Temp\\ipykernel_11712\\2385713922.py:1: UserWarning: \n",
      "\n",
      "`distplot` is a deprecated function and will be removed in seaborn v0.14.0.\n",
      "\n",
      "Please adapt your code to use either `displot` (a figure-level function with\n",
      "similar flexibility) or `histplot` (an axes-level function for histograms).\n",
      "\n",
      "For a guide to updating your code to use the new functions, please see\n",
      "https://gist.github.com/mwaskom/de44147ed2974457ad6372750bbe5751\n",
      "\n",
      "  sns.distplot(df1['price_per_sqft'],color='b')\n"
     ]
    },
    {
     "data": {
      "text/plain": [
       "Text(0.5, 1.0, 'Distribution of Price per Sqft without outliers')"
      ]
     },
     "execution_count": 31,
     "metadata": {},
     "output_type": "execute_result"
    },
    {
     "data": {
      "image/png": "[encoded data removed]",
      "text/plain": [
       "<Figure size 640x480 with 1 Axes>"
      ]
     },
     "metadata": {},
     "output_type": "display_data"
    }
   ],
   "source": [
    "sns.distplot(df1['price_per_sqft'],color='b')\n",
    "plt.title('Distribution of Price per Sqft without outliers',color='b')"
   ]
  },
  {
   "cell_type": "code",
   "execution_count": 32,
   "id": "c3f32fae-77f4-4c98-96ca-09d877c6b5b3",
   "metadata": {},
   "outputs": [
    {
     "data": {
      "text/plain": [
       "<Axes: ylabel='price_per_sqft'>"
      ]
     },
     "execution_count": 32,
     "metadata": {},
     "output_type": "execute_result"
    },
    {
     "data": {
      "image/png": "[encoded data removed]",
      "text/plain": [
       "<Figure size 640x480 with 1 Axes>"
      ]
     },
     "metadata": {},
     "output_type": "display_data"
    }
   ],
   "source": [
    "sns.boxplot(df1['price_per_sqft'])"
   ]
  },
  {
   "cell_type": "code",
   "execution_count": 33,
   "id": "1f30d4fd-aaf7-42ac-a2af-58777f895e2e",
   "metadata": {},
   "outputs": [
    {
     "name": "stdout",
     "output_type": "stream",
     "text": [
      "Before removing outliers: 12151\n",
      "After removing outliers: 11542\n",
      "Outliers: 609\n"
     ]
    }
   ],
   "source": [
    "print(\"Before removing outliers:\",len(df))\n",
    "print(\"After removing outliers:\",len(df1))\n",
    "print(\"Outliers:\",len(df)-len(df1))"
   ]
  },
  {
   "cell_type": "markdown",
   "id": "12a731d2-ea9a-4f4e-a3d2-980efa987904",
   "metadata": {},
   "source": [
    "<b>After removing the ouliers using the mean function,we have achieved a bell shaped curve in the distplot, and we have removed 609 ouliers from the dataset.</b>"
   ]
  },
  {
   "cell_type": "markdown",
   "id": "766ebcf7-9dfa-4646-9903-a7f73980ca5f",
   "metadata": {},
   "source": [
    "## 2.PERCENTILE METHOD"
   ]
  },
  {
   "cell_type": "code",
   "execution_count": 34,
   "id": "47bbc44d-7ff3-4380-aef1-281aa2bc0acf",
   "metadata": {},
   "outputs": [],
   "source": [
    "upper_limit=df['price_per_sqft'].quantile(0.95)\n",
    "lower_limit=df['price_per_sqft'].quantile(0.05)"
   ]
  },
  {
   "cell_type": "code",
   "execution_count": 35,
   "id": "67126166-73ed-4c02-88f8-ca246a396f7a",
   "metadata": {},
   "outputs": [
    {
     "name": "stdout",
     "output_type": "stream",
     "text": [
      "Upper Limit: 15600.0\n",
      "Lower Limit: 3150.0\n"
     ]
    }
   ],
   "source": [
    "print(\"Upper Limit:\",upper_limit)\n",
    "print(\"Lower Limit:\",lower_limit)"
   ]
  },
  {
   "cell_type": "code",
   "execution_count": 36,
   "id": "3262742e-46f2-443d-88ab-ebda12caf9c9",
   "metadata": {},
   "outputs": [
    {
     "name": "stderr",
     "output_type": "stream",
     "text": [
      "C:\\Users\\hp\\AppData\\Local\\Temp\\ipykernel_11712\\3611621828.py:1: UserWarning: \n",
      "\n",
      "`distplot` is a deprecated function and will be removed in seaborn v0.14.0.\n",
      "\n",
      "Please adapt your code to use either `displot` (a figure-level function with\n",
      "similar flexibility) or `histplot` (an axes-level function for histograms).\n",
      "\n",
      "For a guide to updating your code to use the new functions, please see\n",
      "https://gist.github.com/mwaskom/de44147ed2974457ad6372750bbe5751\n",
      "\n",
      "  sns.distplot(df['price_per_sqft'],color='g')\n"
     ]
    },
    {
     "data": {
      "text/plain": [
       "Text(0.5, 1.0, 'Distribution of Price Per Sqft with Outliers')"
      ]
     },
     "execution_count": 36,
     "metadata": {},
     "output_type": "execute_result"
    },
    {
     "data": {
      "image/png": "[encoded data removed]",
      "text/plain": [
       "<Figure size 640x480 with 1 Axes>"
      ]
     },
     "metadata": {},
     "output_type": "display_data"
    }
   ],
   "source": [
    "sns.distplot(df['price_per_sqft'],color='g')\n",
    "plt.title('Distribution of Price Per Sqft with Outliers',color='g')"
   ]
  },
  {
   "cell_type": "code",
   "execution_count": 37,
   "id": "34698ded-a4c3-43e2-917f-1c5f09e5c94c",
   "metadata": {},
   "outputs": [
    {
     "data": {
      "text/plain": [
       "<Axes: ylabel='price_per_sqft'>"
      ]
     },
     "execution_count": 37,
     "metadata": {},
     "output_type": "execute_result"
    },
    {
     "data": {
      "image/png": "[encoded data removed]",
      "text/plain": [
       "<Figure size 640x480 with 1 Axes>"
      ]
     },
     "metadata": {},
     "output_type": "display_data"
    }
   ],
   "source": [
    "sns.boxplot(df['price_per_sqft'])\n"
   ]
  },
  {
   "cell_type": "code",
   "execution_count": 38,
   "id": "82b80f8a-c989-4bab-ae60-ffc9cd44ca88",
   "metadata": {},
   "outputs": [
    {
     "data": {
      "text/html": [
       "<div>\n",
       "<style scoped>\n",
       "    .dataframe tbody tr th:only-of-type {\n",
       "        vertical-align: middle;\n",
       "    }\n",
       "\n",
       "    .dataframe tbody tr th {\n",
       "        vertical-align: top;\n",
       "    }\n",
       "\n",
       "    .dataframe thead th {\n",
       "        text-align: right;\n",
       "    }\n",
       "</style>\n",
       "<table border=\"1\" class=\"dataframe\">\n",
       "  <thead>\n",
       "    <tr style=\"text-align: right;\">\n",
       "      <th></th>\n",
       "      <th>location</th>\n",
       "      <th>size</th>\n",
       "      <th>total_sqft</th>\n",
       "      <th>bath</th>\n",
       "      <th>price</th>\n",
       "      <th>bhk</th>\n",
       "      <th>price_per_sqft</th>\n",
       "    </tr>\n",
       "  </thead>\n",
       "  <tbody>\n",
       "    <tr>\n",
       "      <th>7</th>\n",
       "      <td>Rajaji Nagar</td>\n",
       "      <td>4 BHK</td>\n",
       "      <td>3300.0</td>\n",
       "      <td>4</td>\n",
       "      <td>600.00</td>\n",
       "      <td>4</td>\n",
       "      <td>18181</td>\n",
       "    </tr>\n",
       "    <tr>\n",
       "      <th>9</th>\n",
       "      <td>other</td>\n",
       "      <td>6 Bedroom</td>\n",
       "      <td>1020.0</td>\n",
       "      <td>6</td>\n",
       "      <td>370.00</td>\n",
       "      <td>6</td>\n",
       "      <td>36274</td>\n",
       "    </tr>\n",
       "    <tr>\n",
       "      <th>20</th>\n",
       "      <td>Kengeri</td>\n",
       "      <td>1 BHK</td>\n",
       "      <td>600.0</td>\n",
       "      <td>1</td>\n",
       "      <td>15.00</td>\n",
       "      <td>1</td>\n",
       "      <td>2500</td>\n",
       "    </tr>\n",
       "    <tr>\n",
       "      <th>41</th>\n",
       "      <td>Sarjapur  Road</td>\n",
       "      <td>3 BHK</td>\n",
       "      <td>1254.0</td>\n",
       "      <td>3</td>\n",
       "      <td>38.00</td>\n",
       "      <td>3</td>\n",
       "      <td>3030</td>\n",
       "    </tr>\n",
       "    <tr>\n",
       "      <th>45</th>\n",
       "      <td>HSR Layout</td>\n",
       "      <td>8 Bedroom</td>\n",
       "      <td>600.0</td>\n",
       "      <td>9</td>\n",
       "      <td>200.00</td>\n",
       "      <td>8</td>\n",
       "      <td>33333</td>\n",
       "    </tr>\n",
       "    <tr>\n",
       "      <th>...</th>\n",
       "      <td>...</td>\n",
       "      <td>...</td>\n",
       "      <td>...</td>\n",
       "      <td>...</td>\n",
       "      <td>...</td>\n",
       "      <td>...</td>\n",
       "      <td>...</td>\n",
       "    </tr>\n",
       "    <tr>\n",
       "      <th>12083</th>\n",
       "      <td>Electronic City Phase II</td>\n",
       "      <td>3 BHK</td>\n",
       "      <td>1651.0</td>\n",
       "      <td>3</td>\n",
       "      <td>49.53</td>\n",
       "      <td>3</td>\n",
       "      <td>3000</td>\n",
       "    </tr>\n",
       "    <tr>\n",
       "      <th>12102</th>\n",
       "      <td>other</td>\n",
       "      <td>3 Bedroom</td>\n",
       "      <td>2000.0</td>\n",
       "      <td>2</td>\n",
       "      <td>360.00</td>\n",
       "      <td>3</td>\n",
       "      <td>18000</td>\n",
       "    </tr>\n",
       "    <tr>\n",
       "      <th>12103</th>\n",
       "      <td>other</td>\n",
       "      <td>2 BHK</td>\n",
       "      <td>1140.0</td>\n",
       "      <td>1</td>\n",
       "      <td>185.00</td>\n",
       "      <td>2</td>\n",
       "      <td>16228</td>\n",
       "    </tr>\n",
       "    <tr>\n",
       "      <th>12114</th>\n",
       "      <td>Kothannur</td>\n",
       "      <td>4 Bedroom</td>\n",
       "      <td>1600.0</td>\n",
       "      <td>4</td>\n",
       "      <td>45.00</td>\n",
       "      <td>4</td>\n",
       "      <td>2812</td>\n",
       "    </tr>\n",
       "    <tr>\n",
       "      <th>12140</th>\n",
       "      <td>Hulimavu</td>\n",
       "      <td>1 BHK</td>\n",
       "      <td>500.0</td>\n",
       "      <td>1</td>\n",
       "      <td>220.00</td>\n",
       "      <td>1</td>\n",
       "      <td>44000</td>\n",
       "    </tr>\n",
       "  </tbody>\n",
       "</table>\n",
       "<p>1211 rows × 7 columns</p>\n",
       "</div>"
      ],
      "text/plain": [
       "                       location       size  total_sqft  bath   price  bhk  \\\n",
       "7                  Rajaji Nagar      4 BHK      3300.0     4  600.00    4   \n",
       "9                         other  6 Bedroom      1020.0     6  370.00    6   \n",
       "20                      Kengeri      1 BHK       600.0     1   15.00    1   \n",
       "41               Sarjapur  Road      3 BHK      1254.0     3   38.00    3   \n",
       "45                   HSR Layout  8 Bedroom       600.0     9  200.00    8   \n",
       "...                         ...        ...         ...   ...     ...  ...   \n",
       "12083  Electronic City Phase II      3 BHK      1651.0     3   49.53    3   \n",
       "12102                     other  3 Bedroom      2000.0     2  360.00    3   \n",
       "12103                     other      2 BHK      1140.0     1  185.00    2   \n",
       "12114                 Kothannur  4 Bedroom      1600.0     4   45.00    4   \n",
       "12140                  Hulimavu      1 BHK       500.0     1  220.00    1   \n",
       "\n",
       "       price_per_sqft  \n",
       "7               18181  \n",
       "9               36274  \n",
       "20               2500  \n",
       "41               3030  \n",
       "45              33333  \n",
       "...               ...  \n",
       "12083            3000  \n",
       "12102           18000  \n",
       "12103           16228  \n",
       "12114            2812  \n",
       "12140           44000  \n",
       "\n",
       "[1211 rows x 7 columns]"
      ]
     },
     "execution_count": 38,
     "metadata": {},
     "output_type": "execute_result"
    }
   ],
   "source": [
    "#finding outliers\n",
    "df.loc[(df['price_per_sqft']>upper_limit) | (df['price_per_sqft']<lower_limit)]"
   ]
  },
  {
   "cell_type": "code",
   "execution_count": 39,
   "id": "40f68361-798a-46d4-a86c-0a5756632b6f",
   "metadata": {},
   "outputs": [
    {
     "data": {
      "text/html": [
       "<div>\n",
       "<style scoped>\n",
       "    .dataframe tbody tr th:only-of-type {\n",
       "        vertical-align: middle;\n",
       "    }\n",
       "\n",
       "    .dataframe tbody tr th {\n",
       "        vertical-align: top;\n",
       "    }\n",
       "\n",
       "    .dataframe thead th {\n",
       "        text-align: right;\n",
       "    }\n",
       "</style>\n",
       "<table border=\"1\" class=\"dataframe\">\n",
       "  <thead>\n",
       "    <tr style=\"text-align: right;\">\n",
       "      <th></th>\n",
       "      <th>location</th>\n",
       "      <th>size</th>\n",
       "      <th>total_sqft</th>\n",
       "      <th>bath</th>\n",
       "      <th>price</th>\n",
       "      <th>bhk</th>\n",
       "      <th>price_per_sqft</th>\n",
       "    </tr>\n",
       "  </thead>\n",
       "  <tbody>\n",
       "    <tr>\n",
       "      <th>0</th>\n",
       "      <td>Electronic City Phase II</td>\n",
       "      <td>2 BHK</td>\n",
       "      <td>1056.0</td>\n",
       "      <td>2</td>\n",
       "      <td>39.07</td>\n",
       "      <td>2</td>\n",
       "      <td>3699</td>\n",
       "    </tr>\n",
       "    <tr>\n",
       "      <th>1</th>\n",
       "      <td>Chikka Tirupathi</td>\n",
       "      <td>4 Bedroom</td>\n",
       "      <td>2600.0</td>\n",
       "      <td>5</td>\n",
       "      <td>120.00</td>\n",
       "      <td>4</td>\n",
       "      <td>4615</td>\n",
       "    </tr>\n",
       "    <tr>\n",
       "      <th>2</th>\n",
       "      <td>Uttarahalli</td>\n",
       "      <td>3 BHK</td>\n",
       "      <td>1440.0</td>\n",
       "      <td>2</td>\n",
       "      <td>62.00</td>\n",
       "      <td>3</td>\n",
       "      <td>4305</td>\n",
       "    </tr>\n",
       "    <tr>\n",
       "      <th>3</th>\n",
       "      <td>Lingadheeranahalli</td>\n",
       "      <td>3 BHK</td>\n",
       "      <td>1521.0</td>\n",
       "      <td>3</td>\n",
       "      <td>95.00</td>\n",
       "      <td>3</td>\n",
       "      <td>6245</td>\n",
       "    </tr>\n",
       "    <tr>\n",
       "      <th>4</th>\n",
       "      <td>Kothanur</td>\n",
       "      <td>2 BHK</td>\n",
       "      <td>1200.0</td>\n",
       "      <td>2</td>\n",
       "      <td>51.00</td>\n",
       "      <td>2</td>\n",
       "      <td>4250</td>\n",
       "    </tr>\n",
       "    <tr>\n",
       "      <th>...</th>\n",
       "      <td>...</td>\n",
       "      <td>...</td>\n",
       "      <td>...</td>\n",
       "      <td>...</td>\n",
       "      <td>...</td>\n",
       "      <td>...</td>\n",
       "      <td>...</td>\n",
       "    </tr>\n",
       "    <tr>\n",
       "      <th>12146</th>\n",
       "      <td>Green Glen Layout</td>\n",
       "      <td>3 BHK</td>\n",
       "      <td>1715.0</td>\n",
       "      <td>3</td>\n",
       "      <td>112.00</td>\n",
       "      <td>3</td>\n",
       "      <td>6530</td>\n",
       "    </tr>\n",
       "    <tr>\n",
       "      <th>12147</th>\n",
       "      <td>Whitefield</td>\n",
       "      <td>5 Bedroom</td>\n",
       "      <td>3453.0</td>\n",
       "      <td>4</td>\n",
       "      <td>231.00</td>\n",
       "      <td>5</td>\n",
       "      <td>6689</td>\n",
       "    </tr>\n",
       "    <tr>\n",
       "      <th>12148</th>\n",
       "      <td>other</td>\n",
       "      <td>4 BHK</td>\n",
       "      <td>3600.0</td>\n",
       "      <td>5</td>\n",
       "      <td>400.00</td>\n",
       "      <td>4</td>\n",
       "      <td>11111</td>\n",
       "    </tr>\n",
       "    <tr>\n",
       "      <th>12149</th>\n",
       "      <td>Raja Rajeshwari Nagar</td>\n",
       "      <td>2 BHK</td>\n",
       "      <td>1141.0</td>\n",
       "      <td>2</td>\n",
       "      <td>60.00</td>\n",
       "      <td>2</td>\n",
       "      <td>5258</td>\n",
       "    </tr>\n",
       "    <tr>\n",
       "      <th>12150</th>\n",
       "      <td>Padmanabhanagar</td>\n",
       "      <td>4 BHK</td>\n",
       "      <td>4689.0</td>\n",
       "      <td>4</td>\n",
       "      <td>488.00</td>\n",
       "      <td>4</td>\n",
       "      <td>10407</td>\n",
       "    </tr>\n",
       "  </tbody>\n",
       "</table>\n",
       "<p>10940 rows × 7 columns</p>\n",
       "</div>"
      ],
      "text/plain": [
       "                       location       size  total_sqft  bath   price  bhk  \\\n",
       "0      Electronic City Phase II      2 BHK      1056.0     2   39.07    2   \n",
       "1              Chikka Tirupathi  4 Bedroom      2600.0     5  120.00    4   \n",
       "2                   Uttarahalli      3 BHK      1440.0     2   62.00    3   \n",
       "3            Lingadheeranahalli      3 BHK      1521.0     3   95.00    3   \n",
       "4                      Kothanur      2 BHK      1200.0     2   51.00    2   \n",
       "...                         ...        ...         ...   ...     ...  ...   \n",
       "12146         Green Glen Layout      3 BHK      1715.0     3  112.00    3   \n",
       "12147                Whitefield  5 Bedroom      3453.0     4  231.00    5   \n",
       "12148                     other      4 BHK      3600.0     5  400.00    4   \n",
       "12149     Raja Rajeshwari Nagar      2 BHK      1141.0     2   60.00    2   \n",
       "12150           Padmanabhanagar      4 BHK      4689.0     4  488.00    4   \n",
       "\n",
       "       price_per_sqft  \n",
       "0                3699  \n",
       "1                4615  \n",
       "2                4305  \n",
       "3                6245  \n",
       "4                4250  \n",
       "...               ...  \n",
       "12146            6530  \n",
       "12147            6689  \n",
       "12148           11111  \n",
       "12149            5258  \n",
       "12150           10407  \n",
       "\n",
       "[10940 rows x 7 columns]"
      ]
     },
     "execution_count": 39,
     "metadata": {},
     "output_type": "execute_result"
    }
   ],
   "source": [
    "#deleting the outliers\n",
    "df2=df.loc[(df['price_per_sqft']<=upper_limit) & (df['price_per_sqft']>=lower_limit)]\n",
    "df2"
   ]
  },
  {
   "cell_type": "code",
   "execution_count": 40,
   "id": "16fa9c99-352c-4f8c-89dd-89c5dce76c66",
   "metadata": {},
   "outputs": [
    {
     "name": "stdout",
     "output_type": "stream",
     "text": [
      "Before removing outliers: 12151\n",
      "After removing outliers: 10940\n",
      "Outliers: 1211\n"
     ]
    }
   ],
   "source": [
    "print(\"Before removing outliers:\",len(df))\n",
    "print(\"After removing outliers:\",len(df2))\n",
    "print(\"Outliers:\",len(df)-len(df2))"
   ]
  },
  {
   "cell_type": "markdown",
   "id": "54c132af-e28c-460c-ba29-75d18e5decb2",
   "metadata": {},
   "source": [
    "<p><b>Here we reach a conclusion that 1211 outliers are find after the percentile method.</b></p>"
   ]
  },
  {
   "cell_type": "code",
   "execution_count": 41,
   "id": "f21abe4a-79d6-437b-8595-49ca2da77fa1",
   "metadata": {},
   "outputs": [
    {
     "name": "stderr",
     "output_type": "stream",
     "text": [
      "C:\\Users\\hp\\AppData\\Local\\Temp\\ipykernel_11712\\3210865192.py:1: UserWarning: \n",
      "\n",
      "`distplot` is a deprecated function and will be removed in seaborn v0.14.0.\n",
      "\n",
      "Please adapt your code to use either `displot` (a figure-level function with\n",
      "similar flexibility) or `histplot` (an axes-level function for histograms).\n",
      "\n",
      "For a guide to updating your code to use the new functions, please see\n",
      "https://gist.github.com/mwaskom/de44147ed2974457ad6372750bbe5751\n",
      "\n",
      "  sns.distplot(df2['price_per_sqft'],color='brown')\n"
     ]
    },
    {
     "data": {
      "text/plain": [
       "Text(0.5, 1.0, 'Distribution of Price Per Sqft without outliers')"
      ]
     },
     "execution_count": 41,
     "metadata": {},
     "output_type": "execute_result"
    },
    {
     "data": {
      "image/png": "[encoded data removed]",
      "text/plain": [
       "<Figure size 640x480 with 1 Axes>"
      ]
     },
     "metadata": {},
     "output_type": "display_data"
    }
   ],
   "source": [
    "sns.distplot(df2['price_per_sqft'],color='brown')\n",
    "plt.title('Distribution of Price Per Sqft without outliers',color='brown')"
   ]
  },
  {
   "cell_type": "code",
   "execution_count": 42,
   "id": "02299566-4673-4b57-b703-e8b2e3d03266",
   "metadata": {},
   "outputs": [
    {
     "data": {
      "text/plain": [
       "<Axes: ylabel='price_per_sqft'>"
      ]
     },
     "execution_count": 42,
     "metadata": {},
     "output_type": "execute_result"
    },
    {
     "data": {
      "image/png": "[encoded data removed]",
      "text/plain": [
       "<Figure size 640x480 with 1 Axes>"
      ]
     },
     "metadata": {},
     "output_type": "display_data"
    }
   ],
   "source": [
    "sns.boxplot(df2['price_per_sqft'])"
   ]
  },
  {
   "cell_type": "code",
   "execution_count": 43,
   "id": "36041bbb-0a4b-45d3-8feb-cf536edad106",
   "metadata": {},
   "outputs": [],
   "source": [
    "#CAPPING -cahne the outliers to upper or lower values\n",
    "new_df2=df.copy()\n",
    "new_df2.loc[(new_df2['price_per_sqft']>upper_limit),'price_per_sqft']=upper_limit\n",
    "new_df2.loc[(new_df2['price_per_sqft']<lower_limit),'price_per_sqft']=lower_limit"
   ]
  },
  {
   "cell_type": "code",
   "execution_count": 44,
   "id": "cd10e93f-dbc9-4650-9edb-d84256556b22",
   "metadata": {},
   "outputs": [
    {
     "data": {
      "text/plain": [
       "<Axes: ylabel='price_per_sqft'>"
      ]
     },
     "execution_count": 44,
     "metadata": {},
     "output_type": "execute_result"
    },
    {
     "data": {
      "image/png": "[encoded data removed]",
      "text/plain": [
       "<Figure size 640x480 with 1 Axes>"
      ]
     },
     "metadata": {},
     "output_type": "display_data"
    }
   ],
   "source": [
    "sns.boxplot(new_df2['price_per_sqft'])\n"
   ]
  },
  {
   "cell_type": "markdown",
   "id": "8e1a7460-120a-45e7-9551-0a87b0fb9bd2",
   "metadata": {},
   "source": [
    "## 3.IQR METHOD"
   ]
  },
  {
   "cell_type": "code",
   "execution_count": 45,
   "id": "99c70a35-80e2-4c45-8d14-6e4e44f954a2",
   "metadata": {},
   "outputs": [
    {
     "name": "stderr",
     "output_type": "stream",
     "text": [
      "C:\\Users\\hp\\AppData\\Local\\Temp\\ipykernel_11712\\373823651.py:1: UserWarning: \n",
      "\n",
      "`distplot` is a deprecated function and will be removed in seaborn v0.14.0.\n",
      "\n",
      "Please adapt your code to use either `displot` (a figure-level function with\n",
      "similar flexibility) or `histplot` (an axes-level function for histograms).\n",
      "\n",
      "For a guide to updating your code to use the new functions, please see\n",
      "https://gist.github.com/mwaskom/de44147ed2974457ad6372750bbe5751\n",
      "\n",
      "  sns.distplot(df['price_per_sqft'])\n"
     ]
    },
    {
     "data": {
      "text/plain": [
       "Text(0.5, 1.0, 'Distribution of price Per Sqft with outliers')"
      ]
     },
     "execution_count": 45,
     "metadata": {},
     "output_type": "execute_result"
    },
    {
     "data": {
      "image/png": "[encoded data removed]",
      "text/plain": [
       "<Figure size 640x480 with 1 Axes>"
      ]
     },
     "metadata": {},
     "output_type": "display_data"
    }
   ],
   "source": [
    "sns.distplot(df['price_per_sqft'])\n",
    "plt.title('Distribution of price Per Sqft with outliers',color='b')"
   ]
  },
  {
   "cell_type": "code",
   "execution_count": 46,
   "id": "5ba49d35-0506-492c-b875-88e14814c716",
   "metadata": {},
   "outputs": [
    {
     "data": {
      "text/plain": [
       "<Axes: ylabel='price_per_sqft'>"
      ]
     },
     "execution_count": 46,
     "metadata": {},
     "output_type": "execute_result"
    },
    {
     "data": {
      "image/png": "[encoded data removed]",
      "text/plain": [
       "<Figure size 640x480 with 1 Axes>"
      ]
     },
     "metadata": {},
     "output_type": "display_data"
    }
   ],
   "source": [
    "sns.boxplot(df['price_per_sqft'])\n"
   ]
  },
  {
   "cell_type": "code",
   "execution_count": 47,
   "id": "a3837c05-fc17-4939-b7ea-e3a0ae3f1b6d",
   "metadata": {},
   "outputs": [
    {
     "name": "stdout",
     "output_type": "stream",
     "text": [
      "Q1= 4312.0\n",
      "Q3= 7461.0\n",
      "IQR= 3149.0\n"
     ]
    }
   ],
   "source": [
    "Q1=df.price_per_sqft.quantile(0.25)\n",
    "Q3=df.price_per_sqft.quantile(0.75)\n",
    "IQR=Q3-Q1\n",
    "print(\"Q1=\",Q1)\n",
    "print(\"Q3=\",Q3)\n",
    "print(\"IQR=\",IQR)"
   ]
  },
  {
   "cell_type": "code",
   "execution_count": 49,
   "id": "08613f00-d9a4-4be9-9513-53061cf61066",
   "metadata": {},
   "outputs": [
    {
     "name": "stdout",
     "output_type": "stream",
     "text": [
      "Lower Whisker= -411.5\n",
      "Upper Whisker= 12184.5\n"
     ]
    }
   ],
   "source": [
    "lower_whisker=Q1-1.5*IQR\n",
    "upper_whisker=Q3+1.5*IQR\n",
    "print('Lower Whisker=',lower_whisker)\n",
    "print('Upper Whisker=',upper_whisker)"
   ]
  },
  {
   "cell_type": "code",
   "execution_count": 50,
   "id": "5e7e81e1-318f-4f7c-b99a-1be17e739b61",
   "metadata": {},
   "outputs": [
    {
     "data": {
      "text/html": [
       "<div>\n",
       "<style scoped>\n",
       "    .dataframe tbody tr th:only-of-type {\n",
       "        vertical-align: middle;\n",
       "    }\n",
       "\n",
       "    .dataframe tbody tr th {\n",
       "        vertical-align: top;\n",
       "    }\n",
       "\n",
       "    .dataframe thead th {\n",
       "        text-align: right;\n",
       "    }\n",
       "</style>\n",
       "<table border=\"1\" class=\"dataframe\">\n",
       "  <thead>\n",
       "    <tr style=\"text-align: right;\">\n",
       "      <th></th>\n",
       "      <th>location</th>\n",
       "      <th>size</th>\n",
       "      <th>total_sqft</th>\n",
       "      <th>bath</th>\n",
       "      <th>price</th>\n",
       "      <th>bhk</th>\n",
       "      <th>price_per_sqft</th>\n",
       "    </tr>\n",
       "  </thead>\n",
       "  <tbody>\n",
       "    <tr>\n",
       "      <th>7</th>\n",
       "      <td>Rajaji Nagar</td>\n",
       "      <td>4 BHK</td>\n",
       "      <td>3300.0</td>\n",
       "      <td>4</td>\n",
       "      <td>600.0</td>\n",
       "      <td>4</td>\n",
       "      <td>18181</td>\n",
       "    </tr>\n",
       "    <tr>\n",
       "      <th>9</th>\n",
       "      <td>other</td>\n",
       "      <td>6 Bedroom</td>\n",
       "      <td>1020.0</td>\n",
       "      <td>6</td>\n",
       "      <td>370.0</td>\n",
       "      <td>6</td>\n",
       "      <td>36274</td>\n",
       "    </tr>\n",
       "    <tr>\n",
       "      <th>22</th>\n",
       "      <td>Thanisandra</td>\n",
       "      <td>4 Bedroom</td>\n",
       "      <td>2800.0</td>\n",
       "      <td>5</td>\n",
       "      <td>380.0</td>\n",
       "      <td>4</td>\n",
       "      <td>13571</td>\n",
       "    </tr>\n",
       "    <tr>\n",
       "      <th>45</th>\n",
       "      <td>HSR Layout</td>\n",
       "      <td>8 Bedroom</td>\n",
       "      <td>600.0</td>\n",
       "      <td>9</td>\n",
       "      <td>200.0</td>\n",
       "      <td>8</td>\n",
       "      <td>33333</td>\n",
       "    </tr>\n",
       "    <tr>\n",
       "      <th>48</th>\n",
       "      <td>KR Puram</td>\n",
       "      <td>2 Bedroom</td>\n",
       "      <td>800.0</td>\n",
       "      <td>1</td>\n",
       "      <td>130.0</td>\n",
       "      <td>2</td>\n",
       "      <td>16250</td>\n",
       "    </tr>\n",
       "    <tr>\n",
       "      <th>...</th>\n",
       "      <td>...</td>\n",
       "      <td>...</td>\n",
       "      <td>...</td>\n",
       "      <td>...</td>\n",
       "      <td>...</td>\n",
       "      <td>...</td>\n",
       "      <td>...</td>\n",
       "    </tr>\n",
       "    <tr>\n",
       "      <th>12077</th>\n",
       "      <td>other</td>\n",
       "      <td>3 BHK</td>\n",
       "      <td>1903.0</td>\n",
       "      <td>2</td>\n",
       "      <td>293.0</td>\n",
       "      <td>3</td>\n",
       "      <td>15396</td>\n",
       "    </tr>\n",
       "    <tr>\n",
       "      <th>12102</th>\n",
       "      <td>other</td>\n",
       "      <td>3 Bedroom</td>\n",
       "      <td>2000.0</td>\n",
       "      <td>2</td>\n",
       "      <td>360.0</td>\n",
       "      <td>3</td>\n",
       "      <td>18000</td>\n",
       "    </tr>\n",
       "    <tr>\n",
       "      <th>12103</th>\n",
       "      <td>other</td>\n",
       "      <td>2 BHK</td>\n",
       "      <td>1140.0</td>\n",
       "      <td>1</td>\n",
       "      <td>185.0</td>\n",
       "      <td>2</td>\n",
       "      <td>16228</td>\n",
       "    </tr>\n",
       "    <tr>\n",
       "      <th>12116</th>\n",
       "      <td>other</td>\n",
       "      <td>7 Bedroom</td>\n",
       "      <td>1400.0</td>\n",
       "      <td>7</td>\n",
       "      <td>218.0</td>\n",
       "      <td>7</td>\n",
       "      <td>15571</td>\n",
       "    </tr>\n",
       "    <tr>\n",
       "      <th>12140</th>\n",
       "      <td>Hulimavu</td>\n",
       "      <td>1 BHK</td>\n",
       "      <td>500.0</td>\n",
       "      <td>1</td>\n",
       "      <td>220.0</td>\n",
       "      <td>1</td>\n",
       "      <td>44000</td>\n",
       "    </tr>\n",
       "  </tbody>\n",
       "</table>\n",
       "<p>1142 rows × 7 columns</p>\n",
       "</div>"
      ],
      "text/plain": [
       "           location       size  total_sqft  bath  price  bhk  price_per_sqft\n",
       "7      Rajaji Nagar      4 BHK      3300.0     4  600.0    4           18181\n",
       "9             other  6 Bedroom      1020.0     6  370.0    6           36274\n",
       "22      Thanisandra  4 Bedroom      2800.0     5  380.0    4           13571\n",
       "45       HSR Layout  8 Bedroom       600.0     9  200.0    8           33333\n",
       "48         KR Puram  2 Bedroom       800.0     1  130.0    2           16250\n",
       "...             ...        ...         ...   ...    ...  ...             ...\n",
       "12077         other      3 BHK      1903.0     2  293.0    3           15396\n",
       "12102         other  3 Bedroom      2000.0     2  360.0    3           18000\n",
       "12103         other      2 BHK      1140.0     1  185.0    2           16228\n",
       "12116         other  7 Bedroom      1400.0     7  218.0    7           15571\n",
       "12140      Hulimavu      1 BHK       500.0     1  220.0    1           44000\n",
       "\n",
       "[1142 rows x 7 columns]"
      ]
     },
     "execution_count": 50,
     "metadata": {},
     "output_type": "execute_result"
    }
   ],
   "source": [
    "#finding otuliers\n",
    "df[(df.price_per_sqft<-411.5) | (df.price_per_sqft>12184.5)]"
   ]
  },
  {
   "cell_type": "code",
   "execution_count": 51,
   "id": "4000f118-267d-47c1-abc7-da3937a018bf",
   "metadata": {},
   "outputs": [
    {
     "data": {
      "text/html": [
       "<div>\n",
       "<style scoped>\n",
       "    .dataframe tbody tr th:only-of-type {\n",
       "        vertical-align: middle;\n",
       "    }\n",
       "\n",
       "    .dataframe tbody tr th {\n",
       "        vertical-align: top;\n",
       "    }\n",
       "\n",
       "    .dataframe thead th {\n",
       "        text-align: right;\n",
       "    }\n",
       "</style>\n",
       "<table border=\"1\" class=\"dataframe\">\n",
       "  <thead>\n",
       "    <tr style=\"text-align: right;\">\n",
       "      <th></th>\n",
       "      <th>location</th>\n",
       "      <th>size</th>\n",
       "      <th>total_sqft</th>\n",
       "      <th>bath</th>\n",
       "      <th>price</th>\n",
       "      <th>bhk</th>\n",
       "      <th>price_per_sqft</th>\n",
       "    </tr>\n",
       "  </thead>\n",
       "  <tbody>\n",
       "    <tr>\n",
       "      <th>0</th>\n",
       "      <td>Electronic City Phase II</td>\n",
       "      <td>2 BHK</td>\n",
       "      <td>1056.0</td>\n",
       "      <td>2</td>\n",
       "      <td>39.07</td>\n",
       "      <td>2</td>\n",
       "      <td>3699</td>\n",
       "    </tr>\n",
       "    <tr>\n",
       "      <th>1</th>\n",
       "      <td>Chikka Tirupathi</td>\n",
       "      <td>4 Bedroom</td>\n",
       "      <td>2600.0</td>\n",
       "      <td>5</td>\n",
       "      <td>120.00</td>\n",
       "      <td>4</td>\n",
       "      <td>4615</td>\n",
       "    </tr>\n",
       "    <tr>\n",
       "      <th>2</th>\n",
       "      <td>Uttarahalli</td>\n",
       "      <td>3 BHK</td>\n",
       "      <td>1440.0</td>\n",
       "      <td>2</td>\n",
       "      <td>62.00</td>\n",
       "      <td>3</td>\n",
       "      <td>4305</td>\n",
       "    </tr>\n",
       "    <tr>\n",
       "      <th>3</th>\n",
       "      <td>Lingadheeranahalli</td>\n",
       "      <td>3 BHK</td>\n",
       "      <td>1521.0</td>\n",
       "      <td>3</td>\n",
       "      <td>95.00</td>\n",
       "      <td>3</td>\n",
       "      <td>6245</td>\n",
       "    </tr>\n",
       "    <tr>\n",
       "      <th>4</th>\n",
       "      <td>Kothanur</td>\n",
       "      <td>2 BHK</td>\n",
       "      <td>1200.0</td>\n",
       "      <td>2</td>\n",
       "      <td>51.00</td>\n",
       "      <td>2</td>\n",
       "      <td>4250</td>\n",
       "    </tr>\n",
       "    <tr>\n",
       "      <th>...</th>\n",
       "      <td>...</td>\n",
       "      <td>...</td>\n",
       "      <td>...</td>\n",
       "      <td>...</td>\n",
       "      <td>...</td>\n",
       "      <td>...</td>\n",
       "      <td>...</td>\n",
       "    </tr>\n",
       "    <tr>\n",
       "      <th>12146</th>\n",
       "      <td>Green Glen Layout</td>\n",
       "      <td>3 BHK</td>\n",
       "      <td>1715.0</td>\n",
       "      <td>3</td>\n",
       "      <td>112.00</td>\n",
       "      <td>3</td>\n",
       "      <td>6530</td>\n",
       "    </tr>\n",
       "    <tr>\n",
       "      <th>12147</th>\n",
       "      <td>Whitefield</td>\n",
       "      <td>5 Bedroom</td>\n",
       "      <td>3453.0</td>\n",
       "      <td>4</td>\n",
       "      <td>231.00</td>\n",
       "      <td>5</td>\n",
       "      <td>6689</td>\n",
       "    </tr>\n",
       "    <tr>\n",
       "      <th>12148</th>\n",
       "      <td>other</td>\n",
       "      <td>4 BHK</td>\n",
       "      <td>3600.0</td>\n",
       "      <td>5</td>\n",
       "      <td>400.00</td>\n",
       "      <td>4</td>\n",
       "      <td>11111</td>\n",
       "    </tr>\n",
       "    <tr>\n",
       "      <th>12149</th>\n",
       "      <td>Raja Rajeshwari Nagar</td>\n",
       "      <td>2 BHK</td>\n",
       "      <td>1141.0</td>\n",
       "      <td>2</td>\n",
       "      <td>60.00</td>\n",
       "      <td>2</td>\n",
       "      <td>5258</td>\n",
       "    </tr>\n",
       "    <tr>\n",
       "      <th>12150</th>\n",
       "      <td>Padmanabhanagar</td>\n",
       "      <td>4 BHK</td>\n",
       "      <td>4689.0</td>\n",
       "      <td>4</td>\n",
       "      <td>488.00</td>\n",
       "      <td>4</td>\n",
       "      <td>10407</td>\n",
       "    </tr>\n",
       "  </tbody>\n",
       "</table>\n",
       "<p>11009 rows × 7 columns</p>\n",
       "</div>"
      ],
      "text/plain": [
       "                       location       size  total_sqft  bath   price  bhk  \\\n",
       "0      Electronic City Phase II      2 BHK      1056.0     2   39.07    2   \n",
       "1              Chikka Tirupathi  4 Bedroom      2600.0     5  120.00    4   \n",
       "2                   Uttarahalli      3 BHK      1440.0     2   62.00    3   \n",
       "3            Lingadheeranahalli      3 BHK      1521.0     3   95.00    3   \n",
       "4                      Kothanur      2 BHK      1200.0     2   51.00    2   \n",
       "...                         ...        ...         ...   ...     ...  ...   \n",
       "12146         Green Glen Layout      3 BHK      1715.0     3  112.00    3   \n",
       "12147                Whitefield  5 Bedroom      3453.0     4  231.00    5   \n",
       "12148                     other      4 BHK      3600.0     5  400.00    4   \n",
       "12149     Raja Rajeshwari Nagar      2 BHK      1141.0     2   60.00    2   \n",
       "12150           Padmanabhanagar      4 BHK      4689.0     4  488.00    4   \n",
       "\n",
       "       price_per_sqft  \n",
       "0                3699  \n",
       "1                4615  \n",
       "2                4305  \n",
       "3                6245  \n",
       "4                4250  \n",
       "...               ...  \n",
       "12146            6530  \n",
       "12147            6689  \n",
       "12148           11111  \n",
       "12149            5258  \n",
       "12150           10407  \n",
       "\n",
       "[11009 rows x 7 columns]"
      ]
     },
     "execution_count": 51,
     "metadata": {},
     "output_type": "execute_result"
    }
   ],
   "source": [
    "#df without outliers\n",
    "df3=df[(df.price_per_sqft>-411.5) & (df.price_per_sqft<12184.5)]\n",
    "df3"
   ]
  },
  {
   "cell_type": "code",
   "execution_count": 52,
   "id": "12a9e9b7-104b-4bd7-8a49-7ffa32337a40",
   "metadata": {},
   "outputs": [
    {
     "name": "stdout",
     "output_type": "stream",
     "text": [
      "Before removing outliers: 12151\n",
      "After removing outliers 11009\n",
      "Outliers: 1142\n"
     ]
    }
   ],
   "source": [
    "print('Before removing outliers:',len(df))\n",
    "print('After removing outliers',len(df3))\n",
    "print('Outliers:',len(df)-len(df3))"
   ]
  },
  {
   "cell_type": "code",
   "execution_count": 53,
   "id": "a032d71e-84b9-4430-9830-69654d08a759",
   "metadata": {},
   "outputs": [
    {
     "name": "stderr",
     "output_type": "stream",
     "text": [
      "C:\\Users\\hp\\AppData\\Local\\Temp\\ipykernel_11712\\1727763733.py:1: UserWarning: \n",
      "\n",
      "`distplot` is a deprecated function and will be removed in seaborn v0.14.0.\n",
      "\n",
      "Please adapt your code to use either `displot` (a figure-level function with\n",
      "similar flexibility) or `histplot` (an axes-level function for histograms).\n",
      "\n",
      "For a guide to updating your code to use the new functions, please see\n",
      "https://gist.github.com/mwaskom/de44147ed2974457ad6372750bbe5751\n",
      "\n",
      "  sns.distplot(df3['price_per_sqft'],color='y')\n"
     ]
    },
    {
     "data": {
      "text/plain": [
       "Text(0.5, 1.0, 'Distribution of Price Per Sqft without outliers')"
      ]
     },
     "execution_count": 53,
     "metadata": {},
     "output_type": "execute_result"
    },
    {
     "data": {
      "image/png": "[encoded data removed]",
      "text/plain": [
       "<Figure size 640x480 with 1 Axes>"
      ]
     },
     "metadata": {},
     "output_type": "display_data"
    }
   ],
   "source": [
    "sns.distplot(df3['price_per_sqft'],color='y')\n",
    "plt.title('Distribution of Price Per Sqft without outliers')"
   ]
  },
  {
   "cell_type": "code",
   "execution_count": 54,
   "id": "e16b84fb-cb60-4d03-9602-cf4d4ac1129c",
   "metadata": {},
   "outputs": [
    {
     "data": {
      "text/plain": [
       "<Axes: ylabel='price_per_sqft'>"
      ]
     },
     "execution_count": 54,
     "metadata": {},
     "output_type": "execute_result"
    },
    {
     "data": {
      "image/png": "[encoded data removed]",
      "text/plain": [
       "<Figure size 640x480 with 1 Axes>"
      ]
     },
     "metadata": {},
     "output_type": "display_data"
    }
   ],
   "source": [
    "sns.boxplot(df3['price_per_sqft'])\n"
   ]
  },
  {
   "cell_type": "markdown",
   "id": "e79b289e-75e4-487e-a4b2-660fcfc24d78",
   "metadata": {},
   "source": [
    "<p>Using IQR method for eliminating the outliers,we get a bell shaped curve in the distplot and removed 1142 outliers from the dataset.</p>"
   ]
  },
  {
   "cell_type": "markdown",
   "id": "0eeb9049-59e0-4748-b831-be34c3ef731c",
   "metadata": {},
   "source": [
    "## 4.NORMAL DISTRIBUTION\r\n"
   ]
  },
  {
   "cell_type": "code",
   "execution_count": 3,
   "id": "27cbe738-c2e6-451c-8f0a-974497960f40",
   "metadata": {},
   "outputs": [
    {
     "data": {
      "text/plain": [
       "count    1.215100e+04\n",
       "mean     8.132642e+03\n",
       "std      1.112329e+05\n",
       "min      2.670000e+02\n",
       "25%      4.312000e+03\n",
       "50%      5.500000e+03\n",
       "75%      7.461000e+03\n",
       "max      1.200000e+07\n",
       "Name: price_per_sqft, dtype: float64"
      ]
     },
     "execution_count": 3,
     "metadata": {},
     "output_type": "execute_result"
    }
   ],
   "source": [
    "df.price_per_sqft.describe()\n"
   ]
  },
  {
   "cell_type": "code",
   "execution_count": 4,
   "id": "66116ae0-ab1a-4f5d-8dbd-1795514bd79c",
   "metadata": {},
   "outputs": [
    {
     "data": {
      "text/plain": [
       "8132.641840177763"
      ]
     },
     "execution_count": 4,
     "metadata": {},
     "output_type": "execute_result"
    }
   ],
   "source": [
    "mean=df.price_per_sqft.mean()\n",
    "mean"
   ]
  },
  {
   "cell_type": "code",
   "execution_count": 5,
   "id": "baf62db4-cf14-4be4-b8df-fa64910c5eee",
   "metadata": {},
   "outputs": [
    {
     "data": {
      "text/plain": [
       "111232.90089570847"
      ]
     },
     "execution_count": 5,
     "metadata": {},
     "output_type": "execute_result"
    }
   ],
   "source": [
    "sd=df.price_per_sqft.std()\n",
    "sd"
   ]
  },
  {
   "cell_type": "code",
   "execution_count": 8,
   "id": "46487cb6-467c-4efb-abad-05dd5e57cf07",
   "metadata": {},
   "outputs": [
    {
     "data": {
      "text/plain": [
       "-325566.06084694766"
      ]
     },
     "execution_count": 8,
     "metadata": {},
     "output_type": "execute_result"
    }
   ],
   "source": [
    "#-3sigma\n",
    "mean-3*sd"
   ]
  },
  {
   "cell_type": "code",
   "execution_count": 9,
   "id": "3f895ce9-07f2-4ec7-a765-db6d3b62b0bb",
   "metadata": {},
   "outputs": [
    {
     "data": {
      "text/plain": [
       "341831.3445273032"
      ]
     },
     "execution_count": 9,
     "metadata": {},
     "output_type": "execute_result"
    }
   ],
   "source": [
    "#+3sigma\n",
    "mean+3*sd"
   ]
  },
  {
   "cell_type": "code",
   "execution_count": 10,
   "id": "038e32aa-e987-4926-830e-1b9360ed8eb4",
   "metadata": {},
   "outputs": [
    {
     "data": {
      "text/html": [
       "<div>\n",
       "<style scoped>\n",
       "    .dataframe tbody tr th:only-of-type {\n",
       "        vertical-align: middle;\n",
       "    }\n",
       "\n",
       "    .dataframe tbody tr th {\n",
       "        vertical-align: top;\n",
       "    }\n",
       "\n",
       "    .dataframe thead th {\n",
       "        text-align: right;\n",
       "    }\n",
       "</style>\n",
       "<table border=\"1\" class=\"dataframe\">\n",
       "  <thead>\n",
       "    <tr style=\"text-align: right;\">\n",
       "      <th></th>\n",
       "      <th>location</th>\n",
       "      <th>size</th>\n",
       "      <th>total_sqft</th>\n",
       "      <th>bath</th>\n",
       "      <th>price</th>\n",
       "      <th>bhk</th>\n",
       "      <th>price_per_sqft</th>\n",
       "    </tr>\n",
       "  </thead>\n",
       "  <tbody>\n",
       "    <tr>\n",
       "      <th>344</th>\n",
       "      <td>other</td>\n",
       "      <td>3 Bedroom</td>\n",
       "      <td>11.0</td>\n",
       "      <td>3</td>\n",
       "      <td>74.0</td>\n",
       "      <td>3</td>\n",
       "      <td>672727</td>\n",
       "    </tr>\n",
       "    <tr>\n",
       "      <th>1098</th>\n",
       "      <td>other</td>\n",
       "      <td>5 Bedroom</td>\n",
       "      <td>24.0</td>\n",
       "      <td>2</td>\n",
       "      <td>150.0</td>\n",
       "      <td>5</td>\n",
       "      <td>625000</td>\n",
       "    </tr>\n",
       "    <tr>\n",
       "      <th>3920</th>\n",
       "      <td>Sarjapur  Road</td>\n",
       "      <td>4 Bedroom</td>\n",
       "      <td>1.0</td>\n",
       "      <td>4</td>\n",
       "      <td>120.0</td>\n",
       "      <td>4</td>\n",
       "      <td>12000000</td>\n",
       "    </tr>\n",
       "    <tr>\n",
       "      <th>4744</th>\n",
       "      <td>other</td>\n",
       "      <td>7 BHK</td>\n",
       "      <td>5.0</td>\n",
       "      <td>7</td>\n",
       "      <td>115.0</td>\n",
       "      <td>7</td>\n",
       "      <td>2300000</td>\n",
       "    </tr>\n",
       "    <tr>\n",
       "      <th>10632</th>\n",
       "      <td>Whitefield</td>\n",
       "      <td>4 Bedroom</td>\n",
       "      <td>60.0</td>\n",
       "      <td>4</td>\n",
       "      <td>218.0</td>\n",
       "      <td>4</td>\n",
       "      <td>363333</td>\n",
       "    </tr>\n",
       "  </tbody>\n",
       "</table>\n",
       "</div>"
      ],
      "text/plain": [
       "             location       size  total_sqft  bath  price  bhk  price_per_sqft\n",
       "344             other  3 Bedroom        11.0     3   74.0    3          672727\n",
       "1098            other  5 Bedroom        24.0     2  150.0    5          625000\n",
       "3920   Sarjapur  Road  4 Bedroom         1.0     4  120.0    4        12000000\n",
       "4744            other      7 BHK         5.0     7  115.0    7         2300000\n",
       "10632      Whitefield  4 Bedroom        60.0     4  218.0    4          363333"
      ]
     },
     "execution_count": 10,
     "metadata": {},
     "output_type": "execute_result"
    }
   ],
   "source": [
    "#finding outliers\n",
    "df[(df.price_per_sqft<-325566.06084694766) | (df.price_per_sqft>341831.3445273032)]"
   ]
  },
  {
   "cell_type": "code",
   "execution_count": 11,
   "id": "f13d4628-9e82-4d1c-87b0-ae9e6060f95e",
   "metadata": {},
   "outputs": [
    {
     "data": {
      "text/html": [
       "<div>\n",
       "<style scoped>\n",
       "    .dataframe tbody tr th:only-of-type {\n",
       "        vertical-align: middle;\n",
       "    }\n",
       "\n",
       "    .dataframe tbody tr th {\n",
       "        vertical-align: top;\n",
       "    }\n",
       "\n",
       "    .dataframe thead th {\n",
       "        text-align: right;\n",
       "    }\n",
       "</style>\n",
       "<table border=\"1\" class=\"dataframe\">\n",
       "  <thead>\n",
       "    <tr style=\"text-align: right;\">\n",
       "      <th></th>\n",
       "      <th>location</th>\n",
       "      <th>size</th>\n",
       "      <th>total_sqft</th>\n",
       "      <th>bath</th>\n",
       "      <th>price</th>\n",
       "      <th>bhk</th>\n",
       "      <th>price_per_sqft</th>\n",
       "    </tr>\n",
       "  </thead>\n",
       "  <tbody>\n",
       "    <tr>\n",
       "      <th>0</th>\n",
       "      <td>Electronic City Phase II</td>\n",
       "      <td>2 BHK</td>\n",
       "      <td>1056.0</td>\n",
       "      <td>2</td>\n",
       "      <td>39.07</td>\n",
       "      <td>2</td>\n",
       "      <td>3699</td>\n",
       "    </tr>\n",
       "    <tr>\n",
       "      <th>1</th>\n",
       "      <td>Chikka Tirupathi</td>\n",
       "      <td>4 Bedroom</td>\n",
       "      <td>2600.0</td>\n",
       "      <td>5</td>\n",
       "      <td>120.00</td>\n",
       "      <td>4</td>\n",
       "      <td>4615</td>\n",
       "    </tr>\n",
       "    <tr>\n",
       "      <th>2</th>\n",
       "      <td>Uttarahalli</td>\n",
       "      <td>3 BHK</td>\n",
       "      <td>1440.0</td>\n",
       "      <td>2</td>\n",
       "      <td>62.00</td>\n",
       "      <td>3</td>\n",
       "      <td>4305</td>\n",
       "    </tr>\n",
       "    <tr>\n",
       "      <th>3</th>\n",
       "      <td>Lingadheeranahalli</td>\n",
       "      <td>3 BHK</td>\n",
       "      <td>1521.0</td>\n",
       "      <td>3</td>\n",
       "      <td>95.00</td>\n",
       "      <td>3</td>\n",
       "      <td>6245</td>\n",
       "    </tr>\n",
       "    <tr>\n",
       "      <th>4</th>\n",
       "      <td>Kothanur</td>\n",
       "      <td>2 BHK</td>\n",
       "      <td>1200.0</td>\n",
       "      <td>2</td>\n",
       "      <td>51.00</td>\n",
       "      <td>2</td>\n",
       "      <td>4250</td>\n",
       "    </tr>\n",
       "    <tr>\n",
       "      <th>...</th>\n",
       "      <td>...</td>\n",
       "      <td>...</td>\n",
       "      <td>...</td>\n",
       "      <td>...</td>\n",
       "      <td>...</td>\n",
       "      <td>...</td>\n",
       "      <td>...</td>\n",
       "    </tr>\n",
       "    <tr>\n",
       "      <th>12146</th>\n",
       "      <td>Green Glen Layout</td>\n",
       "      <td>3 BHK</td>\n",
       "      <td>1715.0</td>\n",
       "      <td>3</td>\n",
       "      <td>112.00</td>\n",
       "      <td>3</td>\n",
       "      <td>6530</td>\n",
       "    </tr>\n",
       "    <tr>\n",
       "      <th>12147</th>\n",
       "      <td>Whitefield</td>\n",
       "      <td>5 Bedroom</td>\n",
       "      <td>3453.0</td>\n",
       "      <td>4</td>\n",
       "      <td>231.00</td>\n",
       "      <td>5</td>\n",
       "      <td>6689</td>\n",
       "    </tr>\n",
       "    <tr>\n",
       "      <th>12148</th>\n",
       "      <td>other</td>\n",
       "      <td>4 BHK</td>\n",
       "      <td>3600.0</td>\n",
       "      <td>5</td>\n",
       "      <td>400.00</td>\n",
       "      <td>4</td>\n",
       "      <td>11111</td>\n",
       "    </tr>\n",
       "    <tr>\n",
       "      <th>12149</th>\n",
       "      <td>Raja Rajeshwari Nagar</td>\n",
       "      <td>2 BHK</td>\n",
       "      <td>1141.0</td>\n",
       "      <td>2</td>\n",
       "      <td>60.00</td>\n",
       "      <td>2</td>\n",
       "      <td>5258</td>\n",
       "    </tr>\n",
       "    <tr>\n",
       "      <th>12150</th>\n",
       "      <td>Padmanabhanagar</td>\n",
       "      <td>4 BHK</td>\n",
       "      <td>4689.0</td>\n",
       "      <td>4</td>\n",
       "      <td>488.00</td>\n",
       "      <td>4</td>\n",
       "      <td>10407</td>\n",
       "    </tr>\n",
       "  </tbody>\n",
       "</table>\n",
       "<p>12146 rows × 7 columns</p>\n",
       "</div>"
      ],
      "text/plain": [
       "                       location       size  total_sqft  bath   price  bhk  \\\n",
       "0      Electronic City Phase II      2 BHK      1056.0     2   39.07    2   \n",
       "1              Chikka Tirupathi  4 Bedroom      2600.0     5  120.00    4   \n",
       "2                   Uttarahalli      3 BHK      1440.0     2   62.00    3   \n",
       "3            Lingadheeranahalli      3 BHK      1521.0     3   95.00    3   \n",
       "4                      Kothanur      2 BHK      1200.0     2   51.00    2   \n",
       "...                         ...        ...         ...   ...     ...  ...   \n",
       "12146         Green Glen Layout      3 BHK      1715.0     3  112.00    3   \n",
       "12147                Whitefield  5 Bedroom      3453.0     4  231.00    5   \n",
       "12148                     other      4 BHK      3600.0     5  400.00    4   \n",
       "12149     Raja Rajeshwari Nagar      2 BHK      1141.0     2   60.00    2   \n",
       "12150           Padmanabhanagar      4 BHK      4689.0     4  488.00    4   \n",
       "\n",
       "       price_per_sqft  \n",
       "0                3699  \n",
       "1                4615  \n",
       "2                4305  \n",
       "3                6245  \n",
       "4                4250  \n",
       "...               ...  \n",
       "12146            6530  \n",
       "12147            6689  \n",
       "12148           11111  \n",
       "12149            5258  \n",
       "12150           10407  \n",
       "\n",
       "[12146 rows x 7 columns]"
      ]
     },
     "execution_count": 11,
     "metadata": {},
     "output_type": "execute_result"
    }
   ],
   "source": [
    "#data without outliers\n",
    "df4=df[(df.price_per_sqft>-325566.06084694766) & (df.price_per_sqft<341831.3445273032)]\n",
    "df4"
   ]
  },
  {
   "cell_type": "code",
   "execution_count": 12,
   "id": "dc9b41e9-be8f-4734-b5ac-3dcc280cfc46",
   "metadata": {},
   "outputs": [
    {
     "name": "stdout",
     "output_type": "stream",
     "text": [
      "Before removing outliers: 12151\n",
      "After removing outliers: 12146\n",
      "Outliers: 5\n"
     ]
    }
   ],
   "source": [
    "print(\"Before removing outliers:\",len(df))\n",
    "print(\"After removing outliers:\",len(df4))\n",
    "print(\"Outliers:\",len(df)-len(df4))"
   ]
  },
  {
   "cell_type": "code",
   "execution_count": 14,
   "id": "efa8b591-56bc-4f9f-9405-05e82063efe4",
   "metadata": {},
   "outputs": [
    {
     "name": "stderr",
     "output_type": "stream",
     "text": [
      "C:\\Users\\hp\\AppData\\Local\\Temp\\ipykernel_12592\\3581193206.py:1: UserWarning: \n",
      "\n",
      "`distplot` is a deprecated function and will be removed in seaborn v0.14.0.\n",
      "\n",
      "Please adapt your code to use either `displot` (a figure-level function with\n",
      "similar flexibility) or `histplot` (an axes-level function for histograms).\n",
      "\n",
      "For a guide to updating your code to use the new functions, please see\n",
      "https://gist.github.com/mwaskom/de44147ed2974457ad6372750bbe5751\n",
      "\n",
      "  sns.distplot(df4['price_per_sqft'],color='y')\n"
     ]
    },
    {
     "data": {
      "text/plain": [
       "<Axes: xlabel='price_per_sqft', ylabel='Density'>"
      ]
     },
     "execution_count": 14,
     "metadata": {},
     "output_type": "execute_result"
    },
    {
     "data": {
      "image/png": "[encoded data removed]",
      "text/plain": [
       "<Figure size 640x480 with 1 Axes>"
      ]
     },
     "metadata": {},
     "output_type": "display_data"
    }
   ],
   "source": [
    "sns.distplot(df4['price_per_sqft'],color='y')\n"
   ]
  },
  {
   "cell_type": "code",
   "execution_count": 15,
   "id": "f468b1fc-6b2f-4d59-a35a-475883e6bf6e",
   "metadata": {},
   "outputs": [
    {
     "data": {
      "text/plain": [
       "<Axes: ylabel='price_per_sqft'>"
      ]
     },
     "execution_count": 15,
     "metadata": {},
     "output_type": "execute_result"
    },
    {
     "data": {
      "image/png": "[encoded data removed]",
      "text/plain": [
       "<Figure size 640x480 with 1 Axes>"
      ]
     },
     "metadata": {},
     "output_type": "display_data"
    }
   ],
   "source": [
    "sns.boxplot(df4['price_per_sqft'])\n"
   ]
  },
  {
   "cell_type": "markdown",
   "id": "e5d308f0-6a89-42d1-bb3b-40ec43f7d36b",
   "metadata": {},
   "source": [
    "<p>When need to remove the outliers,using the Normal Distributon Method.Intitially we have 12151 rows,after removing outliers we have 12146 rows in it.\n",
    "We found the outliers as <i>\"5\"</i>.</p>\n",
    "\n"
   ]
  },
  {
   "cell_type": "markdown",
   "id": "345d7e4c-81bd-4332-9de8-6c79e5b1adf6",
   "metadata": {},
   "source": [
    "## 5.ZSCORE METHOD"
   ]
  },
  {
   "cell_type": "code",
   "execution_count": 16,
   "id": "37abe7b5-7ef7-4c10-bab4-7fafabc9fb5e",
   "metadata": {},
   "outputs": [
    {
     "data": {
      "text/plain": [
       "8132.641840177763"
      ]
     },
     "execution_count": 16,
     "metadata": {},
     "output_type": "execute_result"
    }
   ],
   "source": [
    "mean=df.price_per_sqft.mean()\n",
    "mean"
   ]
  },
  {
   "cell_type": "code",
   "execution_count": 17,
   "id": "3c2a695e-e975-4d93-9416-90fbca2993ac",
   "metadata": {},
   "outputs": [
    {
     "data": {
      "text/plain": [
       "111232.90089570847"
      ]
     },
     "execution_count": 17,
     "metadata": {},
     "output_type": "execute_result"
    }
   ],
   "source": [
    "sd=df.price_per_sqft.std()\n",
    "sd"
   ]
  },
  {
   "cell_type": "code",
   "execution_count": 18,
   "id": "0ead3ac6-809b-4a44-95e2-6b3ec5a057fc",
   "metadata": {},
   "outputs": [
    {
     "data": {
      "text/plain": [
       "-325566.06084694766"
      ]
     },
     "execution_count": 18,
     "metadata": {},
     "output_type": "execute_result"
    }
   ],
   "source": [
    "lower_limit=mean-3*sd\n",
    "lower_limit"
   ]
  },
  {
   "cell_type": "code",
   "execution_count": 20,
   "id": "bd9d1f84-ec95-4eb1-bc9f-26af37de5f92",
   "metadata": {},
   "outputs": [
    {
     "data": {
      "text/plain": [
       "341831.3445273032"
      ]
     },
     "execution_count": 20,
     "metadata": {},
     "output_type": "execute_result"
    }
   ],
   "source": [
    "upper_limit=mean+3*sd\n",
    "upper_limit"
   ]
  },
  {
   "cell_type": "code",
   "execution_count": 21,
   "id": "9424c43c-f611-4b1d-8165-0a7b9b711cb9",
   "metadata": {},
   "outputs": [
    {
     "data": {
      "text/html": [
       "<div>\n",
       "<style scoped>\n",
       "    .dataframe tbody tr th:only-of-type {\n",
       "        vertical-align: middle;\n",
       "    }\n",
       "\n",
       "    .dataframe tbody tr th {\n",
       "        vertical-align: top;\n",
       "    }\n",
       "\n",
       "    .dataframe thead th {\n",
       "        text-align: right;\n",
       "    }\n",
       "</style>\n",
       "<table border=\"1\" class=\"dataframe\">\n",
       "  <thead>\n",
       "    <tr style=\"text-align: right;\">\n",
       "      <th></th>\n",
       "      <th>location</th>\n",
       "      <th>size</th>\n",
       "      <th>total_sqft</th>\n",
       "      <th>bath</th>\n",
       "      <th>price</th>\n",
       "      <th>bhk</th>\n",
       "      <th>price_per_sqft</th>\n",
       "    </tr>\n",
       "  </thead>\n",
       "  <tbody>\n",
       "    <tr>\n",
       "      <th>0</th>\n",
       "      <td>Electronic City Phase II</td>\n",
       "      <td>2 BHK</td>\n",
       "      <td>1056.0</td>\n",
       "      <td>2</td>\n",
       "      <td>39.07</td>\n",
       "      <td>2</td>\n",
       "      <td>3699</td>\n",
       "    </tr>\n",
       "    <tr>\n",
       "      <th>1</th>\n",
       "      <td>Chikka Tirupathi</td>\n",
       "      <td>4 Bedroom</td>\n",
       "      <td>2600.0</td>\n",
       "      <td>5</td>\n",
       "      <td>120.00</td>\n",
       "      <td>4</td>\n",
       "      <td>4615</td>\n",
       "    </tr>\n",
       "    <tr>\n",
       "      <th>2</th>\n",
       "      <td>Uttarahalli</td>\n",
       "      <td>3 BHK</td>\n",
       "      <td>1440.0</td>\n",
       "      <td>2</td>\n",
       "      <td>62.00</td>\n",
       "      <td>3</td>\n",
       "      <td>4305</td>\n",
       "    </tr>\n",
       "    <tr>\n",
       "      <th>3</th>\n",
       "      <td>Lingadheeranahalli</td>\n",
       "      <td>3 BHK</td>\n",
       "      <td>1521.0</td>\n",
       "      <td>3</td>\n",
       "      <td>95.00</td>\n",
       "      <td>3</td>\n",
       "      <td>6245</td>\n",
       "    </tr>\n",
       "    <tr>\n",
       "      <th>4</th>\n",
       "      <td>Kothanur</td>\n",
       "      <td>2 BHK</td>\n",
       "      <td>1200.0</td>\n",
       "      <td>2</td>\n",
       "      <td>51.00</td>\n",
       "      <td>2</td>\n",
       "      <td>4250</td>\n",
       "    </tr>\n",
       "    <tr>\n",
       "      <th>...</th>\n",
       "      <td>...</td>\n",
       "      <td>...</td>\n",
       "      <td>...</td>\n",
       "      <td>...</td>\n",
       "      <td>...</td>\n",
       "      <td>...</td>\n",
       "      <td>...</td>\n",
       "    </tr>\n",
       "    <tr>\n",
       "      <th>12146</th>\n",
       "      <td>Green Glen Layout</td>\n",
       "      <td>3 BHK</td>\n",
       "      <td>1715.0</td>\n",
       "      <td>3</td>\n",
       "      <td>112.00</td>\n",
       "      <td>3</td>\n",
       "      <td>6530</td>\n",
       "    </tr>\n",
       "    <tr>\n",
       "      <th>12147</th>\n",
       "      <td>Whitefield</td>\n",
       "      <td>5 Bedroom</td>\n",
       "      <td>3453.0</td>\n",
       "      <td>4</td>\n",
       "      <td>231.00</td>\n",
       "      <td>5</td>\n",
       "      <td>6689</td>\n",
       "    </tr>\n",
       "    <tr>\n",
       "      <th>12148</th>\n",
       "      <td>other</td>\n",
       "      <td>4 BHK</td>\n",
       "      <td>3600.0</td>\n",
       "      <td>5</td>\n",
       "      <td>400.00</td>\n",
       "      <td>4</td>\n",
       "      <td>11111</td>\n",
       "    </tr>\n",
       "    <tr>\n",
       "      <th>12149</th>\n",
       "      <td>Raja Rajeshwari Nagar</td>\n",
       "      <td>2 BHK</td>\n",
       "      <td>1141.0</td>\n",
       "      <td>2</td>\n",
       "      <td>60.00</td>\n",
       "      <td>2</td>\n",
       "      <td>5258</td>\n",
       "    </tr>\n",
       "    <tr>\n",
       "      <th>12150</th>\n",
       "      <td>Padmanabhanagar</td>\n",
       "      <td>4 BHK</td>\n",
       "      <td>4689.0</td>\n",
       "      <td>4</td>\n",
       "      <td>488.00</td>\n",
       "      <td>4</td>\n",
       "      <td>10407</td>\n",
       "    </tr>\n",
       "  </tbody>\n",
       "</table>\n",
       "<p>12146 rows × 7 columns</p>\n",
       "</div>"
      ],
      "text/plain": [
       "                       location       size  total_sqft  bath   price  bhk  \\\n",
       "0      Electronic City Phase II      2 BHK      1056.0     2   39.07    2   \n",
       "1              Chikka Tirupathi  4 Bedroom      2600.0     5  120.00    4   \n",
       "2                   Uttarahalli      3 BHK      1440.0     2   62.00    3   \n",
       "3            Lingadheeranahalli      3 BHK      1521.0     3   95.00    3   \n",
       "4                      Kothanur      2 BHK      1200.0     2   51.00    2   \n",
       "...                         ...        ...         ...   ...     ...  ...   \n",
       "12146         Green Glen Layout      3 BHK      1715.0     3  112.00    3   \n",
       "12147                Whitefield  5 Bedroom      3453.0     4  231.00    5   \n",
       "12148                     other      4 BHK      3600.0     5  400.00    4   \n",
       "12149     Raja Rajeshwari Nagar      2 BHK      1141.0     2   60.00    2   \n",
       "12150           Padmanabhanagar      4 BHK      4689.0     4  488.00    4   \n",
       "\n",
       "       price_per_sqft  \n",
       "0                3699  \n",
       "1                4615  \n",
       "2                4305  \n",
       "3                6245  \n",
       "4                4250  \n",
       "...               ...  \n",
       "12146            6530  \n",
       "12147            6689  \n",
       "12148           11111  \n",
       "12149            5258  \n",
       "12150           10407  \n",
       "\n",
       "[12146 rows x 7 columns]"
      ]
     },
     "execution_count": 21,
     "metadata": {},
     "output_type": "execute_result"
    }
   ],
   "source": [
    "#data without outliers\n",
    "df5=df[(df.price_per_sqft>lower_limit) & (df.price_per_sqft<upper_limit)]\n",
    "df5"
   ]
  },
  {
   "cell_type": "code",
   "execution_count": 22,
   "id": "fe901769-2a5b-491e-a222-c891628706c7",
   "metadata": {},
   "outputs": [
    {
     "name": "stdout",
     "output_type": "stream",
     "text": [
      "Before Removing Outliers: 12151\n",
      "After Removing Outliers: 12146\n",
      "Outliers: 5\n"
     ]
    }
   ],
   "source": [
    "print(\"Before Removing Outliers:\",len(df))\n",
    "print(\"After Removing Outliers:\",len(df5))\n",
    "print(\"Outliers:\",len(df)-len(df5))"
   ]
  },
  {
   "cell_type": "code",
   "execution_count": 23,
   "id": "eb2d9bed-4a87-4ed6-97ed-843d7615c1fe",
   "metadata": {},
   "outputs": [
    {
     "name": "stderr",
     "output_type": "stream",
     "text": [
      "C:\\Users\\hp\\AppData\\Local\\Temp\\ipykernel_12592\\321367063.py:1: UserWarning: \n",
      "\n",
      "`distplot` is a deprecated function and will be removed in seaborn v0.14.0.\n",
      "\n",
      "Please adapt your code to use either `displot` (a figure-level function with\n",
      "similar flexibility) or `histplot` (an axes-level function for histograms).\n",
      "\n",
      "For a guide to updating your code to use the new functions, please see\n",
      "https://gist.github.com/mwaskom/de44147ed2974457ad6372750bbe5751\n",
      "\n",
      "  sns.distplot(df5['price_per_sqft'],color='b')\n"
     ]
    },
    {
     "data": {
      "text/plain": [
       "<Axes: xlabel='price_per_sqft', ylabel='Density'>"
      ]
     },
     "execution_count": 23,
     "metadata": {},
     "output_type": "execute_result"
    },
    {
     "data": {
      "image/png": "[encoded data removed]",
      "text/plain": [
       "<Figure size 640x480 with 1 Axes>"
      ]
     },
     "metadata": {},
     "output_type": "display_data"
    }
   ],
   "source": [
    "sns.distplot(df5['price_per_sqft'],color='b')\n"
   ]
  },
  {
   "cell_type": "code",
   "execution_count": 24,
   "id": "af0d85b2-d659-45de-b82d-6192fe81061f",
   "metadata": {},
   "outputs": [
    {
     "data": {
      "text/plain": [
       "<Axes: ylabel='price_per_sqft'>"
      ]
     },
     "execution_count": 24,
     "metadata": {},
     "output_type": "execute_result"
    },
    {
     "data": {
      "image/png": "[encoded data removed]",
      "text/plain": [
       "<Figure size 640x480 with 1 Axes>"
      ]
     },
     "metadata": {},
     "output_type": "display_data"
    }
   ],
   "source": [
    "sns.boxplot(df5['price_per_sqft'])\n"
   ]
  },
  {
   "cell_type": "markdown",
   "id": "4caadbff-18a9-47a6-9252-5c61e2978511",
   "metadata": {},
   "source": [
    "<p>Using the zscore method, there were 12,151 data rows before removing outliers, and 12,146 data rows after removal, indicating a total of 5 outliers.</p>\n",
    "<p>We identified the same outliers using both the normal distribution and z-score method, indicating we follows same process in our outlier removal.</p>\n"
   ]
  },
  {
   "cell_type": "markdown",
   "id": "fc20cc7a-e362-4652-9023-6512189ae4cf",
   "metadata": {},
   "source": [
    " ## CORRELATION BETWEEN ALL NUMERICAL COLUMNS\r\n"
   ]
  },
  {
   "cell_type": "code",
   "execution_count": 26,
   "id": "41af8dd8-c7dd-4184-bbe3-3e85e415eca0",
   "metadata": {},
   "outputs": [
    {
     "data": {
      "text/html": [
       "<div>\n",
       "<style scoped>\n",
       "    .dataframe tbody tr th:only-of-type {\n",
       "        vertical-align: middle;\n",
       "    }\n",
       "\n",
       "    .dataframe tbody tr th {\n",
       "        vertical-align: top;\n",
       "    }\n",
       "\n",
       "    .dataframe thead th {\n",
       "        text-align: right;\n",
       "    }\n",
       "</style>\n",
       "<table border=\"1\" class=\"dataframe\">\n",
       "  <thead>\n",
       "    <tr style=\"text-align: right;\">\n",
       "      <th></th>\n",
       "      <th>location</th>\n",
       "      <th>size</th>\n",
       "      <th>total_sqft</th>\n",
       "      <th>bath</th>\n",
       "      <th>price</th>\n",
       "      <th>bhk</th>\n",
       "      <th>price_per_sqft</th>\n",
       "    </tr>\n",
       "  </thead>\n",
       "  <tbody>\n",
       "    <tr>\n",
       "      <th>0</th>\n",
       "      <td>Electronic City Phase II</td>\n",
       "      <td>2 BHK</td>\n",
       "      <td>1056.0</td>\n",
       "      <td>2</td>\n",
       "      <td>39.07</td>\n",
       "      <td>2</td>\n",
       "      <td>3699</td>\n",
       "    </tr>\n",
       "    <tr>\n",
       "      <th>1</th>\n",
       "      <td>Chikka Tirupathi</td>\n",
       "      <td>4 Bedroom</td>\n",
       "      <td>2600.0</td>\n",
       "      <td>5</td>\n",
       "      <td>120.00</td>\n",
       "      <td>4</td>\n",
       "      <td>4615</td>\n",
       "    </tr>\n",
       "    <tr>\n",
       "      <th>2</th>\n",
       "      <td>Uttarahalli</td>\n",
       "      <td>3 BHK</td>\n",
       "      <td>1440.0</td>\n",
       "      <td>2</td>\n",
       "      <td>62.00</td>\n",
       "      <td>3</td>\n",
       "      <td>4305</td>\n",
       "    </tr>\n",
       "    <tr>\n",
       "      <th>3</th>\n",
       "      <td>Lingadheeranahalli</td>\n",
       "      <td>3 BHK</td>\n",
       "      <td>1521.0</td>\n",
       "      <td>3</td>\n",
       "      <td>95.00</td>\n",
       "      <td>3</td>\n",
       "      <td>6245</td>\n",
       "    </tr>\n",
       "    <tr>\n",
       "      <th>4</th>\n",
       "      <td>Kothanur</td>\n",
       "      <td>2 BHK</td>\n",
       "      <td>1200.0</td>\n",
       "      <td>2</td>\n",
       "      <td>51.00</td>\n",
       "      <td>2</td>\n",
       "      <td>4250</td>\n",
       "    </tr>\n",
       "    <tr>\n",
       "      <th>...</th>\n",
       "      <td>...</td>\n",
       "      <td>...</td>\n",
       "      <td>...</td>\n",
       "      <td>...</td>\n",
       "      <td>...</td>\n",
       "      <td>...</td>\n",
       "      <td>...</td>\n",
       "    </tr>\n",
       "    <tr>\n",
       "      <th>12146</th>\n",
       "      <td>Green Glen Layout</td>\n",
       "      <td>3 BHK</td>\n",
       "      <td>1715.0</td>\n",
       "      <td>3</td>\n",
       "      <td>112.00</td>\n",
       "      <td>3</td>\n",
       "      <td>6530</td>\n",
       "    </tr>\n",
       "    <tr>\n",
       "      <th>12147</th>\n",
       "      <td>Whitefield</td>\n",
       "      <td>5 Bedroom</td>\n",
       "      <td>3453.0</td>\n",
       "      <td>4</td>\n",
       "      <td>231.00</td>\n",
       "      <td>5</td>\n",
       "      <td>6689</td>\n",
       "    </tr>\n",
       "    <tr>\n",
       "      <th>12148</th>\n",
       "      <td>other</td>\n",
       "      <td>4 BHK</td>\n",
       "      <td>3600.0</td>\n",
       "      <td>5</td>\n",
       "      <td>400.00</td>\n",
       "      <td>4</td>\n",
       "      <td>11111</td>\n",
       "    </tr>\n",
       "    <tr>\n",
       "      <th>12149</th>\n",
       "      <td>Raja Rajeshwari Nagar</td>\n",
       "      <td>2 BHK</td>\n",
       "      <td>1141.0</td>\n",
       "      <td>2</td>\n",
       "      <td>60.00</td>\n",
       "      <td>2</td>\n",
       "      <td>5258</td>\n",
       "    </tr>\n",
       "    <tr>\n",
       "      <th>12150</th>\n",
       "      <td>Padmanabhanagar</td>\n",
       "      <td>4 BHK</td>\n",
       "      <td>4689.0</td>\n",
       "      <td>4</td>\n",
       "      <td>488.00</td>\n",
       "      <td>4</td>\n",
       "      <td>10407</td>\n",
       "    </tr>\n",
       "  </tbody>\n",
       "</table>\n",
       "<p>12151 rows × 7 columns</p>\n",
       "</div>"
      ],
      "text/plain": [
       "                       location       size  total_sqft  bath   price  bhk  \\\n",
       "0      Electronic City Phase II      2 BHK      1056.0     2   39.07    2   \n",
       "1              Chikka Tirupathi  4 Bedroom      2600.0     5  120.00    4   \n",
       "2                   Uttarahalli      3 BHK      1440.0     2   62.00    3   \n",
       "3            Lingadheeranahalli      3 BHK      1521.0     3   95.00    3   \n",
       "4                      Kothanur      2 BHK      1200.0     2   51.00    2   \n",
       "...                         ...        ...         ...   ...     ...  ...   \n",
       "12146         Green Glen Layout      3 BHK      1715.0     3  112.00    3   \n",
       "12147                Whitefield  5 Bedroom      3453.0     4  231.00    5   \n",
       "12148                     other      4 BHK      3600.0     5  400.00    4   \n",
       "12149     Raja Rajeshwari Nagar      2 BHK      1141.0     2   60.00    2   \n",
       "12150           Padmanabhanagar      4 BHK      4689.0     4  488.00    4   \n",
       "\n",
       "       price_per_sqft  \n",
       "0                3699  \n",
       "1                4615  \n",
       "2                4305  \n",
       "3                6245  \n",
       "4                4250  \n",
       "...               ...  \n",
       "12146            6530  \n",
       "12147            6689  \n",
       "12148           11111  \n",
       "12149            5258  \n",
       "12150           10407  \n",
       "\n",
       "[12151 rows x 7 columns]"
      ]
     },
     "execution_count": 26,
     "metadata": {},
     "output_type": "execute_result"
    }
   ],
   "source": [
    "df"
   ]
  },
  {
   "cell_type": "code",
   "execution_count": 27,
   "id": "7f9dbadb-213c-42ec-a565-d53f194ddee9",
   "metadata": {},
   "outputs": [
    {
     "data": {
      "text/plain": [
       "Index(['total_sqft', 'bath', 'price', 'bhk', 'price_per_sqft'], dtype='object')"
      ]
     },
     "execution_count": 27,
     "metadata": {},
     "output_type": "execute_result"
    }
   ],
   "source": [
    "#finding the numerical columns\n",
    "#checking the dataset and selecting the numerical columns\n",
    "num_col=df.select_dtypes(include=['int', 'float']).columns\n",
    "num_col"
   ]
  },
  {
   "cell_type": "code",
   "execution_count": 28,
   "id": "ccc89152-8b4d-46b4-9480-ba754b4543b7",
   "metadata": {},
   "outputs": [],
   "source": [
    "#compute correlation mathrix\n",
    "corre_matrix=df[num_col].corr()"
   ]
  },
  {
   "cell_type": "code",
   "execution_count": 29,
   "id": "240bb023-d0f8-4d84-9479-80abdffbc016",
   "metadata": {},
   "outputs": [
    {
     "data": {
      "image/png": "[encoded data removed]",
      "text/plain": [
       "<Figure size 1000x800 with 2 Axes>"
      ]
     },
     "metadata": {},
     "output_type": "display_data"
    }
   ],
   "source": [
    "#plotting heatmap\n",
    "plt.figure(figsize=(10, 8))\n",
    "sns.heatmap(corre_matrix, annot=True, cmap='plasma', fmt=\".2f\")\n",
    "plt.title('Correlation Heatmap')\n",
    "plt.show()"
   ]
  },
  {
   "cell_type": "markdown",
   "id": "cba24f61-38fb-4a18-af01-c7dd718b406d",
   "metadata": {},
   "source": [
    "<ul>\n",
    "<li>Firstly,  there is a weak negative correlation <b>\"-0.01\"</b> between total_Sqft and price_per_sqft,there's almost <u>no linear relationship</u> between these two variables.</li>\n",
    "\n",
    "<li>However, Total Sqft shows <u>moderate positive correlations</u> with other key variables such as bhk <b>\"0.34\"</b>, price <b>\"0.57\"</b>, and bath <b>\"0.39\"</b>, indicating that as the total square feet increases, the number of bedrooms, the property price, and the number of bathrooms tend to increase as well, though not in a perfectly linear manner.</li>\n",
    "\n",
    "<li>Bath exhibits a <u>strong positive correlation</u> <b>\"0.90\"</b> with BHK, suggesting a strong linear relationship between the number of bathrooms and the number of bedrooms. Additionally, Bath also demonstrates <u>moderate positive correlations</u> with price <b>\"0.45\"</b> and total_sqft <b>\"0.39\"</b>, indicating that properties with more bathrooms tend to command higher prices and have larger square feet.</li>\n",
    "\n",
    "<li>Price also exhibits <u>moderate positive correlations</u> with bhk <b>\"0.39\"</b> and total_sqft <b>\"0.57\"</b>, indicating that both the number of bedrooms and the total square footage have a positive impact on property prices, though again, not in a perfectly linear manner.</li>\n",
    "\n",
    "<li>Overall, these correlation coefficients provide valuable insights into how different factors are interrelated within our dataset, aiding in better understanding and potentially predicting property prices based on their characteristics.</li>\n",
    "</ul>"
   ]
  },
  {
   "cell_type": "code",
   "execution_count": 30,
   "id": "008b6e43-45e1-4f0f-8a61-00f68d3f1152",
   "metadata": {},
   "outputs": [
    {
     "data": {
      "image/png": "[encoded data removed]",
      "text/plain": [
       "<Figure size 1250x1250 with 30 Axes>"
      ]
     },
     "metadata": {},
     "output_type": "display_data"
    }
   ],
   "source": [
    "#plot scatterplot\n",
    "sns.pairplot(df)\n",
    "plt.show()"
   ]
  },
  {
   "cell_type": "markdown",
   "id": "d2f2872c-867c-40a3-8ac4-df5d7d67a779",
   "metadata": {},
   "source": []
  },
  {
   "cell_type": "code",
   "execution_count": null,
   "id": "06510d89-4467-4431-bbec-f7bfcc45d13b",
   "metadata": {},
   "outputs": [],
   "source": []
  },
  {
   "cell_type": "code",
   "execution_count": null,
   "id": "228788cf-07ae-4f64-b446-04a86b0ea5ca",
   "metadata": {},
   "outputs": [],
   "source": []
  },
  {
   "cell_type": "code",
   "execution_count": null,
   "id": "f1ceec3b-2f58-4763-a1ba-f6fa6bf3a58a",
   "metadata": {},
   "outputs": [],
   "source": []
  },
  {
   "cell_type": "code",
   "execution_count": null,
   "id": "63ae79c0-6cd6-474a-b735-45c9b4339a1c",
   "metadata": {},
   "outputs": [],
   "source": []
  },
  {
   "cell_type": "code",
   "execution_count": null,
   "id": "33d9d9af-9905-434d-8f5a-21291f82ec48",
   "metadata": {},
   "outputs": [],
   "source": []
  },
  {
   "cell_type": "code",
   "execution_count": null,
   "id": "debc3f2f-7dc4-4cfd-ad7b-e8624d72f1f4",
   "metadata": {},
   "outputs": [],
   "source": []
  },
  {
   "cell_type": "code",
   "execution_count": null,
   "id": "3d2f796b-af20-41f4-9833-ce3f5c39852d",
   "metadata": {},
   "outputs": [],
   "source": []
  },
  {
   "cell_type": "code",
   "execution_count": null,
   "id": "db980d25-0ecd-4fdc-a400-39e1ce2d424e",
   "metadata": {},
   "outputs": [],
   "source": []
  },
  {
   "cell_type": "code",
   "execution_count": null,
   "id": "a8ed4367-57e0-4cfe-9d70-bb3a6318ef4d",
   "metadata": {},
   "outputs": [],
   "source": []
  },
  {
   "cell_type": "code",
   "execution_count": null,
   "id": "2af986fe-9f26-4386-b2e3-502095003f29",
   "metadata": {},
   "outputs": [],
   "source": []
  },
  {
   "cell_type": "code",
   "execution_count": null,
   "id": "f75d184e-98b8-4a65-aadb-a97c154c56a8",
   "metadata": {},
   "outputs": [],
   "source": []
  },
  {
   "cell_type": "code",
   "execution_count": null,
   "id": "c227d830-eb37-4953-af1f-a746bb74bec4",
   "metadata": {},
   "outputs": [],
   "source": []
  },
  {
   "cell_type": "code",
   "execution_count": null,
   "id": "2058dad4-6a52-44b0-9aa1-19c4e150965d",
   "metadata": {},
   "outputs": [],
   "source": []
  }
 ],
 "metadata": {
  "kernelspec": {
   "display_name": "Python 3 (ipykernel)",
   "language": "python",
   "name": "python3"
  },
  "language_info": {
   "codemirror_mode": {
    "name": "ipython",
    "version": 3
   },
   "file_extension": ".py",
   "mimetype": "text/x-python",
   "name": "python",
   "nbconvert_exporter": "python",
   "pygments_lexer": "ipython3",
   "version": "3.11.5"
  }
 },
 "nbformat": 4,
 "nbformat_minor": 5
}
